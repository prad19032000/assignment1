{
 "cells": [
  {
   "cell_type": "markdown",
   "id": "269e4ac7",
   "metadata": {},
   "source": [
    "1. Why are functions advantageous to have in your programs?"
   ]
  },
  {
   "cell_type": "markdown",
   "id": "08ec3a46",
   "metadata": {},
   "source": [
    "By using functions in our programs we don't need to follow certain steps many times, as it will directly follow all the steps which are given while defining the particular function once we will call the function."
   ]
  },
  {
   "cell_type": "markdown",
   "id": "be778737",
   "metadata": {},
   "source": [
    "2. When does the code in a function run: when it&#39;s specified or when it&#39;s called?"
   ]
  },
  {
   "cell_type": "markdown",
   "id": "4bbf63a4",
   "metadata": {},
   "source": [
    "A function runs when it is called."
   ]
  },
  {
   "cell_type": "markdown",
   "id": "66f547c3",
   "metadata": {},
   "source": [
    "3. What statement creates a function?"
   ]
  },
  {
   "cell_type": "markdown",
   "id": "6cb87887",
   "metadata": {},
   "source": [
    "'def' statement creates function."
   ]
  },
  {
   "cell_type": "markdown",
   "id": "76aa02cc",
   "metadata": {},
   "source": [
    "4. What is the difference between a function and a function call?"
   ]
  },
  {
   "cell_type": "markdown",
   "id": "3ddb0bfc",
   "metadata": {},
   "source": [
    "A function is a particular code written by the user and is given a certain name by using 'def' stattment. whereas the function call means that we call the function by using its name which is given at the time of defining it, and it runs accordingly."
   ]
  },
  {
   "cell_type": "markdown",
   "id": "d2f69f5a",
   "metadata": {},
   "source": [
    "5. How many global scopes are there in a Python program? How many local scopes?"
   ]
  },
  {
   "cell_type": "markdown",
   "id": "2664ff42",
   "metadata": {},
   "source": [
    "Variables that are defined inside a function body have a local scope, and those defined outside have a global scope."
   ]
  },
  {
   "cell_type": "markdown",
   "id": "fddf1151",
   "metadata": {},
   "source": [
    "6. What happens to variables in a local scope when the function call returns?"
   ]
  },
  {
   "cell_type": "markdown",
   "id": "5a975c48",
   "metadata": {},
   "source": [
    "The variable in local scope is destroyed when the function call returns."
   ]
  },
  {
   "cell_type": "markdown",
   "id": "596ee004",
   "metadata": {},
   "source": [
    "7. What is the concept of a return value? Is it possible to have a return value in an expression?"
   ]
  },
  {
   "cell_type": "markdown",
   "id": "635e69f1",
   "metadata": {},
   "source": [
    "The return value is used at the end of the function and returns the result to the caller.Yes, it is possible to have a return value in an expression."
   ]
  },
  {
   "cell_type": "markdown",
   "id": "24ef6e1c",
   "metadata": {},
   "source": [
    "8. If a function does not have a return statement, what is the return value of a call to that function?"
   ]
  },
  {
   "cell_type": "markdown",
   "id": "1ef5d9fd",
   "metadata": {},
   "source": [
    "If a function does not have a return statement the return value of a call to that function is None."
   ]
  },
  {
   "cell_type": "markdown",
   "id": "5c648bd7",
   "metadata": {},
   "source": [
    "9. How do you make a function variable refer to the global variable?"
   ]
  },
  {
   "cell_type": "markdown",
   "id": "3c159e78",
   "metadata": {},
   "source": [
    "You can make a function variable refer to a global variable by using keyword global in the function."
   ]
  },
  {
   "cell_type": "markdown",
   "id": "3d2fe984",
   "metadata": {},
   "source": [
    "10. What is the data type of None?"
   ]
  },
  {
   "cell_type": "markdown",
   "id": "bd3a2c93",
   "metadata": {},
   "source": [
    "None doesn't belong to any of the datatypes, as it is a data type of it's own Nonetype."
   ]
  },
  {
   "cell_type": "markdown",
   "id": "ef0dc522",
   "metadata": {},
   "source": [
    "11. What does the sentence import areallyourpetsnamederic do?"
   ]
  },
  {
   "cell_type": "markdown",
   "id": "9799cd60",
   "metadata": {},
   "source": [
    "It will import the module named areallyourpetsnamederic in your current notebook."
   ]
  },
  {
   "cell_type": "markdown",
   "id": "afc25a60",
   "metadata": {},
   "source": [
    "12. If you had a bacon() feature in a spam module, what would you call it after importing spam?"
   ]
  },
  {
   "cell_type": "markdown",
   "id": "f8a56394",
   "metadata": {},
   "source": [
    "spam.bacon()"
   ]
  },
  {
   "cell_type": "markdown",
   "id": "511a973a",
   "metadata": {},
   "source": [
    "13. What can you do to save a programme from crashing if it encounters an error?"
   ]
  },
  {
   "cell_type": "markdown",
   "id": "a9036063",
   "metadata": {},
   "source": [
    "We can use exception handling method  to save a programme from crashing if it encounters an error.\n"
   ]
  },
  {
   "cell_type": "markdown",
   "id": "8da68f7d",
   "metadata": {},
   "source": [
    "14. What is the purpose of the try clause? What is the purpose of the except clause?"
   ]
  },
  {
   "cell_type": "markdown",
   "id": "082cf8c2",
   "metadata": {},
   "source": [
    "The purpose of the try clause is that when a user has to avoid the programme from crashing if it encounters an error try clause is used, and if the code given in try clause encounters error it goes to the except clause and it prints the error or statement given by user in the except clause and helps to avoid crashing of programme."
   ]
  }
 ],
 "metadata": {
  "kernelspec": {
   "display_name": "Python 3 (ipykernel)",
   "language": "python",
   "name": "python3"
  },
  "language_info": {
   "codemirror_mode": {
    "name": "ipython",
    "version": 3
   },
   "file_extension": ".py",
   "mimetype": "text/x-python",
   "name": "python",
   "nbconvert_exporter": "python",
   "pygments_lexer": "ipython3",
   "version": "3.10.9"
  }
 },
 "nbformat": 4,
 "nbformat_minor": 5
}

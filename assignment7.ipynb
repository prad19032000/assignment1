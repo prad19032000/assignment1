{
 "cells": [
  {
   "cell_type": "markdown",
   "id": "be7f4e9d",
   "metadata": {},
   "source": [
    "Q.1. Create two int type variables, apply addition, subtraction, division and multiplications\n",
    "and store the results in variables. Then print the data in the following format by calling the\n",
    "variables:\n",
    "First variable is __ & second variable is __.\n",
    "Addition: __ + __ = __\n",
    "Subtraction: __ - __ = __\n",
    "Multiplication: __ * __ = __\n",
    "Division: __ / __ = __"
   ]
  },
  {
   "cell_type": "code",
   "execution_count": 6,
   "id": "666a4e27",
   "metadata": {},
   "outputs": [
    {
     "name": "stdout",
     "output_type": "stream",
     "text": [
      "First variable is 10 and second variable is 5\n",
      "Addition:10+5=15\n",
      "Subraction:10-5=5\n",
      "Multiplication:10*5=50\n",
      "Division:10/5=2.0\n"
     ]
    }
   ],
   "source": [
    "a=10\n",
    "b=5\n",
    "add=a+b\n",
    "sub=a-b\n",
    "mul=a*b\n",
    "div=a/b\n",
    "print(f\"First variable is {a} and second variable is {b}\")\n",
    "print(f\"Addition:{a}+{b}={add}\")\n",
    "print(f\"Subraction:{a}-{b}={sub}\")\n",
    "print(f\"Multiplication:{a}*{b}={mul}\")\n",
    "print(f\"Division:{a}/{b}={div}\")"
   ]
  },
  {
   "cell_type": "markdown",
   "id": "4c8cf2ec",
   "metadata": {},
   "source": [
    "Q.2. What is the difference between the following operators:\n",
    "(i) ‘/’ & ‘//’\n",
    "(ii) ‘**’ & ‘^’"
   ]
  },
  {
   "cell_type": "code",
   "execution_count": 9,
   "id": "e509fef0",
   "metadata": {},
   "outputs": [
    {
     "name": "stdout",
     "output_type": "stream",
     "text": [
      "5.0\n",
      "5\n"
     ]
    }
   ],
   "source": [
    "#\"/\" stands for Division.\n",
    "print(10/2)\n",
    "#\"//\" stands for floor divsion\n",
    "print(11//2)"
   ]
  },
  {
   "cell_type": "code",
   "execution_count": 10,
   "id": "9d852929",
   "metadata": {},
   "outputs": [
    {
     "name": "stdout",
     "output_type": "stream",
     "text": [
      "4\n",
      "6\n"
     ]
    }
   ],
   "source": [
    "#\"**\" stands for exponential power.\n",
    "print(2**2)\n",
    "#\"^\"stands for XOR operator.\n",
    "print(5^3)"
   ]
  },
  {
   "cell_type": "markdown",
   "id": "4d2a9e5c",
   "metadata": {},
   "source": [
    "Q.3. List the logical operators."
   ]
  },
  {
   "cell_type": "code",
   "execution_count": null,
   "id": "b5856955",
   "metadata": {},
   "outputs": [],
   "source": [
    "AND operator: In this operator both of them should be 1 get output as 1.\n",
    "OR operator: In this operator either of them should be 1 get output as 1.\n",
    "XOR operator:In this operator only one of them should be 1 to get output as 1.\n",
    "AND operator: In this operator it turns 1 into 0 and viceversa."
   ]
  },
  {
   "cell_type": "markdown",
   "id": "ad5e6671",
   "metadata": {},
   "source": [
    "Q.4. Explain right shift operator and left shift operator with examples."
   ]
  },
  {
   "cell_type": "code",
   "execution_count": 12,
   "id": "ccec0868",
   "metadata": {},
   "outputs": [
    {
     "data": {
      "text/plain": [
       "2"
      ]
     },
     "execution_count": 12,
     "metadata": {},
     "output_type": "execute_result"
    }
   ],
   "source": [
    "#Right shift operators moves bits of an integer to its right.\n",
    "10>>2"
   ]
  },
  {
   "cell_type": "code",
   "execution_count": 13,
   "id": "7c804c4c",
   "metadata": {},
   "outputs": [
    {
     "data": {
      "text/plain": [
       "40"
      ]
     },
     "execution_count": 13,
     "metadata": {},
     "output_type": "execute_result"
    }
   ],
   "source": [
    "#left shift operators move bits of an integer to its left.\n",
    "10<<2"
   ]
  },
  {
   "cell_type": "markdown",
   "id": "5dd1d57c",
   "metadata": {},
   "source": [
    "Q.5. Create a list containing int type data of length 15. Then write a code to check if 10 is\n",
    "present in the list or not."
   ]
  },
  {
   "cell_type": "code",
   "execution_count": 14,
   "id": "c3396dcd",
   "metadata": {},
   "outputs": [
    {
     "name": "stdout",
     "output_type": "stream",
     "text": [
      "True\n"
     ]
    }
   ],
   "source": [
    "a=[1,2,3,4,5,6,7,8,9,10,11,12,13,14,15]\n",
    "for i in a:\n",
    "    if i==10:\n",
    "        print(True)\n",
    "        "
   ]
  }
 ],
 "metadata": {
  "kernelspec": {
   "display_name": "Python 3 (ipykernel)",
   "language": "python",
   "name": "python3"
  },
  "language_info": {
   "codemirror_mode": {
    "name": "ipython",
    "version": 3
   },
   "file_extension": ".py",
   "mimetype": "text/x-python",
   "name": "python",
   "nbconvert_exporter": "python",
   "pygments_lexer": "ipython3",
   "version": "3.10.9"
  }
 },
 "nbformat": 4,
 "nbformat_minor": 5
}

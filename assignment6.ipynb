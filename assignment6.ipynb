{
 "cells": [
  {
   "cell_type": "markdown",
   "id": "ef300140",
   "metadata": {},
   "source": [
    "Q.1. What are keywords in python? Using the keyword library, print all the python keywords."
   ]
  },
  {
   "cell_type": "markdown",
   "id": "86b70b5a",
   "metadata": {},
   "source": [
    "Keywords are reserved words which have a particular meaning which can be used only to perform those specific purposes.\n"
   ]
  },
  {
   "cell_type": "code",
   "execution_count": null,
   "id": "72bf91f3",
   "metadata": {},
   "outputs": [],
   "source": [
    "import keyword\n",
    "keyword.kwlist"
   ]
  },
  {
   "cell_type": "markdown",
   "id": "e234997a",
   "metadata": {},
   "source": [
    "Q.2. What are the rules to create variables in python?"
   ]
  },
  {
   "cell_type": "markdown",
   "id": "48668f3c",
   "metadata": {},
   "source": [
    "The rules to create variables are :\n",
    "    1: It is should not start with a number.\n",
    "    2: We can use a number but not at the start of the variable name.\n",
    "    3: We can use alphabets and any other characters.\n",
    "    4: Variable name are case sensitive.\n",
    "        "
   ]
  },
  {
   "cell_type": "markdown",
   "id": "222faa5d",
   "metadata": {},
   "source": [
    "Q.3. What are the standards and conventions followed for the nomenclature of variables in\n",
    "python to improve code readability and maintainability?\n"
   ]
  },
  {
   "cell_type": "markdown",
   "id": "1aa99328",
   "metadata": {},
   "source": [
    "Use grammatically correct variable names, the class name should start with an uppercase and must follow camelCase convention If more than two words are to be used. In the same way, a function name should be joined with an underscore, and it must be lowercase"
   ]
  },
  {
   "cell_type": "markdown",
   "id": "61885086",
   "metadata": {},
   "source": [
    "Q.4. What will happen if a keyword is used as a variable name?"
   ]
  },
  {
   "cell_type": "code",
   "execution_count": null,
   "id": "60a2618f",
   "metadata": {},
   "outputs": [],
   "source": [
    "#It will show a syntax error when we will use it as variable name.\n",
    "if=5\n",
    "if\n",
    "\n"
   ]
  },
  {
   "cell_type": "markdown",
   "id": "87d5073d",
   "metadata": {},
   "source": [
    "Q.5. For what purpose def keyword is used?"
   ]
  },
  {
   "cell_type": "markdown",
   "id": "0fd4ef06",
   "metadata": {},
   "source": [
    "\"def\" is a keyword used to define a function.\n",
    "By using a \"def\" we can start defining a function by giving it a name and giving it arguments and then the steps which the function will follow and return the required value.\n"
   ]
  },
  {
   "cell_type": "markdown",
   "id": "acd74a8b",
   "metadata": {},
   "source": [
    "Q.6. What is the operation of this special character ‘\\’?"
   ]
  },
  {
   "cell_type": "code",
   "execution_count": null,
   "id": "3e8e471e",
   "metadata": {},
   "outputs": [],
   "source": [
    "#(\"\\\") character is used to escape to other characters.\n",
    "print(\"I\\'m pradynesh\")"
   ]
  },
  {
   "cell_type": "markdown",
   "id": "89aee948",
   "metadata": {},
   "source": [
    "Q.7. Give an example of the following conditions:\n",
    "(i) Homogeneous list\n",
    "(ii) Heterogeneous set\n",
    "(iii) Homogeneous tuple"
   ]
  },
  {
   "cell_type": "code",
   "execution_count": null,
   "id": "16af22d6",
   "metadata": {},
   "outputs": [],
   "source": [
    "a=[1,2,3]#Homogenous list\n",
    "b={1,\"prad\",2}#Heterogenous set\n",
    "c=(1,2,3)#Homogenous tuple"
   ]
  },
  {
   "cell_type": "markdown",
   "id": "e3e85b22",
   "metadata": {},
   "source": [
    "Q.8. Explain the mutable and immutable data types with proper explanation & examples."
   ]
  },
  {
   "cell_type": "code",
   "execution_count": null,
   "id": "eaabdc43",
   "metadata": {},
   "outputs": [],
   "source": [
    "a=[1,2,3]\n",
    "a[2]=4\n",
    "a\n",
    "#Mutable data types are those in which we can change the elements or append elements in it."
   ]
  },
  {
   "cell_type": "code",
   "execution_count": null,
   "id": "3f7c10b4",
   "metadata": {},
   "outputs": [],
   "source": [
    "a=(1,2,3)\n",
    "a[2]=4\n",
    "a\n",
    "#Immutable data types are those in which we cannot change the elements or append elements in it."
   ]
  },
  {
   "cell_type": "code",
   "execution_count": null,
   "id": "3032a43b",
   "metadata": {},
   "outputs": [],
   "source": [
    "Q.9. Write a code to create the given structure using only for loop.\n",
    "      *\n",
    "     ***\n",
    "    *****\n",
    "   *******\n",
    "  *********"
   ]
  },
  {
   "cell_type": "code",
   "execution_count": null,
   "id": "886530ae",
   "metadata": {},
   "outputs": [],
   "source": [
    "n=5\n",
    "for i in range(n):\n",
    "    for j in range(i,n-1):\n",
    "        print(\" \",end=\" \")\n",
    "    for j in range(i+1):\n",
    "        print(\"*\",end=\" \")\n",
    "    for j in range(i):\n",
    "        print(\"*\",end=\" \")\n",
    "    print(\"\\n\")\n",
    "        "
   ]
  },
  {
   "cell_type": "code",
   "execution_count": null,
   "id": "a3c91e7c",
   "metadata": {},
   "outputs": [],
   "source": [
    "Q.10. Write a code to create the given structure using while loop.\n",
    "  |||||||||\n",
    "   |||||||\n",
    "    |||||\n",
    "     |||\n",
    "      |"
   ]
  },
  {
   "cell_type": "code",
   "execution_count": 4,
   "id": "6e4031ed",
   "metadata": {},
   "outputs": [
    {
     "name": "stdout",
     "output_type": "stream",
     "text": [
      "|||||||||\n",
      " |||||||\n",
      "  |||||\n",
      "   |||\n",
      "    |\n",
      "     \n"
     ]
    }
   ],
   "source": [
    "rows=0\n",
    "while rows<=5:\n",
    "    print(' '*(rows) + '|'*(2*(5-rows)-1))\n",
    "    rows+=1"
   ]
  }
 ],
 "metadata": {
  "kernelspec": {
   "display_name": "Python 3 (ipykernel)",
   "language": "python",
   "name": "python3"
  },
  "language_info": {
   "codemirror_mode": {
    "name": "ipython",
    "version": 3
   },
   "file_extension": ".py",
   "mimetype": "text/x-python",
   "name": "python",
   "nbconvert_exporter": "python",
   "pygments_lexer": "ipython3",
   "version": "3.10.9"
  }
 },
 "nbformat": 4,
 "nbformat_minor": 5
}

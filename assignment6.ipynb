{
 "cells": [
  {
   "cell_type": "markdown",
   "id": "a50a2b8e",
   "metadata": {},
   "source": [
    "Q.1. What are keywords in python? Using the keyword library, print all the python keywords."
   ]
  },
  {
   "cell_type": "markdown",
   "id": "d347b58d",
   "metadata": {},
   "source": [
    "Keywords are reserved words which have a particular meaning which can be used only to perform those specific purposes.\n"
   ]
  },
  {
   "cell_type": "code",
   "execution_count": 2,
   "id": "cbd48929",
   "metadata": {},
   "outputs": [
    {
     "data": {
      "text/plain": [
       "['False',\n",
       " 'None',\n",
       " 'True',\n",
       " 'and',\n",
       " 'as',\n",
       " 'assert',\n",
       " 'async',\n",
       " 'await',\n",
       " 'break',\n",
       " 'class',\n",
       " 'continue',\n",
       " 'def',\n",
       " 'del',\n",
       " 'elif',\n",
       " 'else',\n",
       " 'except',\n",
       " 'finally',\n",
       " 'for',\n",
       " 'from',\n",
       " 'global',\n",
       " 'if',\n",
       " 'import',\n",
       " 'in',\n",
       " 'is',\n",
       " 'lambda',\n",
       " 'nonlocal',\n",
       " 'not',\n",
       " 'or',\n",
       " 'pass',\n",
       " 'raise',\n",
       " 'return',\n",
       " 'try',\n",
       " 'while',\n",
       " 'with',\n",
       " 'yield']"
      ]
     },
     "execution_count": 2,
     "metadata": {},
     "output_type": "execute_result"
    }
   ],
   "source": [
    "import keyword\n",
    "keyword.kwlist"
   ]
  },
  {
   "cell_type": "markdown",
   "id": "745ffa06",
   "metadata": {},
   "source": [
    "Q.2. What are the rules to create variables in python?"
   ]
  },
  {
   "cell_type": "markdown",
   "id": "4e896f55",
   "metadata": {},
   "source": [
    "The rules to create variables are :\n",
    "    1: It is should not start with a number.\n",
    "    2: We can use a number but not at the start of the variable name.\n",
    "    3: We can use alphabets and any other characters.\n",
    "    4: Variable name are case sensitive.\n",
    "        "
   ]
  },
  {
   "cell_type": "markdown",
   "id": "bb398b10",
   "metadata": {},
   "source": [
    "Q.3. What are the standards and conventions followed for the nomenclature of variables in\n",
    "python to improve code readability and maintainability?\n"
   ]
  },
  {
   "cell_type": "markdown",
   "id": "57b0af9f",
   "metadata": {},
   "source": [
    "Use grammatically correct variable names, the class name should start with an uppercase and must follow camelCase convention If more than two words are to be used. In the same way, a function name should be joined with an underscore, and it must be lowercase"
   ]
  },
  {
   "cell_type": "markdown",
   "id": "35434d04",
   "metadata": {},
   "source": [
    "Q.4. What will happen if a keyword is used as a variable name?"
   ]
  },
  {
   "cell_type": "code",
   "execution_count": 9,
   "id": "3fc1772a",
   "metadata": {},
   "outputs": [
    {
     "ename": "SyntaxError",
     "evalue": "invalid syntax (3878315766.py, line 2)",
     "output_type": "error",
     "traceback": [
      "\u001b[1;36m  Cell \u001b[1;32mIn[9], line 2\u001b[1;36m\u001b[0m\n\u001b[1;33m    if=5\u001b[0m\n\u001b[1;37m      ^\u001b[0m\n\u001b[1;31mSyntaxError\u001b[0m\u001b[1;31m:\u001b[0m invalid syntax\n"
     ]
    }
   ],
   "source": [
    "#It will show a syntax error when we will use it as variable name.\n",
    "if=5\n",
    "if\n",
    "\n"
   ]
  },
  {
   "cell_type": "markdown",
   "id": "48cd2fc0",
   "metadata": {},
   "source": [
    "Q.5. For what purpose def keyword is used?"
   ]
  },
  {
   "cell_type": "markdown",
   "id": "e7c936eb",
   "metadata": {},
   "source": [
    "\"def\" is a keyword used to define a function.\n",
    "By using a \"def\" we can start defining a function by giving it a name and giving it arguments and then the steps which the function will follow and return the required value.\n"
   ]
  },
  {
   "cell_type": "markdown",
   "id": "7a8af310",
   "metadata": {},
   "source": [
    "Q.6. What is the operation of this special character ‘\\’?"
   ]
  },
  {
   "cell_type": "code",
   "execution_count": 10,
   "id": "d91db943",
   "metadata": {},
   "outputs": [
    {
     "name": "stdout",
     "output_type": "stream",
     "text": [
      "I'm pradynesh\n"
     ]
    }
   ],
   "source": [
    "#(\"\\\") character is used to escape to other characters.\n",
    "print(\"I\\'m pradynesh\")"
   ]
  },
  {
   "cell_type": "markdown",
   "id": "c3da0fab",
   "metadata": {},
   "source": [
    "Q.7. Give an example of the following conditions:\n",
    "(i) Homogeneous list\n",
    "(ii) Heterogeneous set\n",
    "(iii) Homogeneous tuple"
   ]
  },
  {
   "cell_type": "code",
   "execution_count": null,
   "id": "712edb6c",
   "metadata": {},
   "outputs": [],
   "source": [
    "a=[1,2,3]#Homogenous list\n",
    "b={1,\"prad\",2}#Heterogenous set\n",
    "c=(1,2,3)#Homogenous tuple"
   ]
  },
  {
   "cell_type": "markdown",
   "id": "f8936ac6",
   "metadata": {},
   "source": [
    "Q.8. Explain the mutable and immutable data types with proper explanation & examples."
   ]
  },
  {
   "cell_type": "code",
   "execution_count": 11,
   "id": "d8743818",
   "metadata": {},
   "outputs": [
    {
     "data": {
      "text/plain": [
       "[1, 2, 4]"
      ]
     },
     "execution_count": 11,
     "metadata": {},
     "output_type": "execute_result"
    }
   ],
   "source": [
    "a=[1,2,3]\n",
    "a[2]=4\n",
    "a\n",
    "#Mutable data types are those in which we can change the elements or append elements in it."
   ]
  },
  {
   "cell_type": "code",
   "execution_count": 12,
   "id": "f1516a19",
   "metadata": {},
   "outputs": [
    {
     "ename": "TypeError",
     "evalue": "'tuple' object does not support item assignment",
     "output_type": "error",
     "traceback": [
      "\u001b[1;31m---------------------------------------------------------------------------\u001b[0m",
      "\u001b[1;31mTypeError\u001b[0m                                 Traceback (most recent call last)",
      "Cell \u001b[1;32mIn[12], line 2\u001b[0m\n\u001b[0;32m      1\u001b[0m a\u001b[38;5;241m=\u001b[39m(\u001b[38;5;241m1\u001b[39m,\u001b[38;5;241m2\u001b[39m,\u001b[38;5;241m3\u001b[39m)\n\u001b[1;32m----> 2\u001b[0m a[\u001b[38;5;241m2\u001b[39m]\u001b[38;5;241m=\u001b[39m\u001b[38;5;241m4\u001b[39m\n\u001b[0;32m      3\u001b[0m a\n",
      "\u001b[1;31mTypeError\u001b[0m: 'tuple' object does not support item assignment"
     ]
    }
   ],
   "source": [
    "a=(1,2,3)\n",
    "a[2]=4\n",
    "a\n",
    "#Immutable data types are those in which we cannot change the elements or append elements in it."
   ]
  },
  {
   "cell_type": "code",
   "execution_count": null,
   "id": "68369d85",
   "metadata": {},
   "outputs": [],
   "source": [
    "Q.9. Write a code to create the given structure using only for loop.\n",
    "      *\n",
    "     ***\n",
    "    *****\n",
    "   *******\n",
    "  *********"
   ]
  },
  {
   "cell_type": "code",
   "execution_count": 17,
   "id": "d989e34a",
   "metadata": {},
   "outputs": [
    {
     "name": "stdout",
     "output_type": "stream",
     "text": [
      "        * \n",
      "\n",
      "      * * * \n",
      "\n",
      "    * * * * * \n",
      "\n",
      "  * * * * * * * \n",
      "\n",
      "* * * * * * * * * \n",
      "\n"
     ]
    }
   ],
   "source": [
    "n=5\n",
    "for i in range(n):\n",
    "    for j in range(i,n-1):\n",
    "        print(\" \",end=\" \")\n",
    "    for j in range(i+1):\n",
    "        print(\"*\",end=\" \")\n",
    "    for j in range(i):\n",
    "        print(\"*\",end=\" \")\n",
    "    print(\"\\n\")\n",
    "        "
   ]
  },
  {
   "cell_type": "code",
   "execution_count": null,
   "id": "29b80d12",
   "metadata": {},
   "outputs": [],
   "source": [
    "Q.10. Write a code to create the given structure using while loop.\n",
    "  |||||||||\n",
    "   |||||||\n",
    "    |||||\n",
    "     |||\n",
    "      |"
   ]
  },
  {
   "cell_type": "code",
   "execution_count": 8,
   "id": "929db81a",
   "metadata": {},
   "outputs": [
    {
     "name": "stdout",
     "output_type": "stream",
     "text": [
      "| | | | | | | | | \n",
      "\n",
      "  | | | | | | | \n",
      "\n",
      "    | | | | | \n",
      "\n",
      "      | | | \n",
      "\n",
      "        | \n",
      "\n"
     ]
    }
   ],
   "source": [
    "\n",
    "for i in range(5,0,-1):\n",
    "    for j in range(0,5-i):\n",
    "        print(\" \"* len(\"a\"),end=\" \")\n",
    "    for j in range(i-1):\n",
    "        print(\"|\",end=\" \")\n",
    "    for j in range(i):\n",
    "        print(\"|\",end=\" \")\n",
    "    print(\"\\n\")"
   ]
  },
  {
   "cell_type": "code",
   "execution_count": null,
   "id": "c16d62b6",
   "metadata": {},
   "outputs": [],
   "source": []
  }
 ],
 "metadata": {
  "kernelspec": {
   "display_name": "Python 3 (ipykernel)",
   "language": "python",
   "name": "python3"
  },
  "language_info": {
   "codemirror_mode": {
    "name": "ipython",
    "version": 3
   },
   "file_extension": ".py",
   "mimetype": "text/x-python",
   "name": "python",
   "nbconvert_exporter": "python",
   "pygments_lexer": "ipython3",
   "version": "3.10.9"
  }
 },
 "nbformat": 4,
 "nbformat_minor": 5
}

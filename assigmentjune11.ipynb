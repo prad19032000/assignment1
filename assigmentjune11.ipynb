{
 "cells": [
  {
   "cell_type": "markdown",
   "id": "33775dbe",
   "metadata": {},
   "source": [
    "1. What is a lambda function in Python, and how does it differ from a regular function?"
   ]
  },
  {
   "cell_type": "markdown",
   "id": "57c40bf4",
   "metadata": {},
   "source": [
    "A lambda function is an anonymous function that can take any number of arguments but, unlike normal functions, evaluates and returns only one expression."
   ]
  },
  {
   "cell_type": "markdown",
   "id": "be4dcbe9",
   "metadata": {},
   "source": [
    "2. Can a lambda function in Python have multiple arguments? If yes, how can you define and use\n",
    "them?"
   ]
  },
  {
   "cell_type": "markdown",
   "id": "79d85697",
   "metadata": {},
   "source": [
    "Yes a lambda function in python have multiple arguments."
   ]
  },
  {
   "cell_type": "code",
   "execution_count": 1,
   "id": "6f159048",
   "metadata": {},
   "outputs": [
    {
     "name": "stdout",
     "output_type": "stream",
     "text": [
      "8\n"
     ]
    }
   ],
   "source": [
    "add = lambda x, y: x + y\n",
    "result = add(5, 3)\n",
    "print(result) "
   ]
  },
  {
   "cell_type": "markdown",
   "id": "3da80e50",
   "metadata": {},
   "source": [
    "3. How are lambda functions typically used in Python? Provide an example use case."
   ]
  },
  {
   "cell_type": "code",
   "execution_count": 4,
   "id": "a234ae0d",
   "metadata": {},
   "outputs": [
    {
     "name": "stdout",
     "output_type": "stream",
     "text": [
      "125\n"
     ]
    }
   ],
   "source": [
    "area=lambda x,y:x*y\n",
    "rectangle_area=area(25,5)\n",
    "print(rectangle_area)"
   ]
  },
  {
   "cell_type": "markdown",
   "id": "dfec35fb",
   "metadata": {},
   "source": [
    "4. What are the advantages and limitations of lambda functions compared to regular functions in\n",
    "Python?"
   ]
  },
  {
   "cell_type": "markdown",
   "id": "a07979ba",
   "metadata": {},
   "source": [
    " Advantages:\n",
    " Lambda functions allow you to express simple operations in a compact and clear manner. \n",
    " Lambda function can be easy to understand with small operations.\n",
    " Lambda functions provide a convenient way to pass small functions as arguments to these higher-order functions.\n",
    " Disadvantages:\n",
    "  Due to their anonymous nature, lambda functions are less reusable than regular functions defined with def.\n",
    "  We cannot use a complex logic in lambda functions as it is only one line function.\n",
    "  "
   ]
  },
  {
   "cell_type": "markdown",
   "id": "f933d7d4",
   "metadata": {},
   "source": [
    "5. Are lambda functions in Python able to access variables defined outside of their own scope? Explain with an example."
   ]
  },
  {
   "cell_type": "markdown",
   "id": "e86d2926",
   "metadata": {},
   "source": [
    "YES lambda functions in python able to access variables defined outside of their own scope."
   ]
  },
  {
   "cell_type": "code",
   "execution_count": 5,
   "id": "dca176fd",
   "metadata": {},
   "outputs": [
    {
     "data": {
      "text/plain": [
       "15"
      ]
     },
     "execution_count": 5,
     "metadata": {},
     "output_type": "execute_result"
    }
   ],
   "source": [
    "a=10\n",
    "add=lambda x:a+x\n",
    "add(5)\n"
   ]
  },
  {
   "cell_type": "markdown",
   "id": "cfa8ccf0",
   "metadata": {},
   "source": [
    "6. Write a lambda function to calculate the square of a given number."
   ]
  },
  {
   "cell_type": "code",
   "execution_count": 6,
   "id": "a3af9783",
   "metadata": {},
   "outputs": [
    {
     "data": {
      "text/plain": [
       "25"
      ]
     },
     "execution_count": 6,
     "metadata": {},
     "output_type": "execute_result"
    }
   ],
   "source": [
    "square=lambda x:x*x\n",
    "square(5)"
   ]
  },
  {
   "cell_type": "markdown",
   "id": "e953960b",
   "metadata": {},
   "source": [
    "7. Create a lambda function to find the maximum value in a list of integers."
   ]
  },
  {
   "cell_type": "code",
   "execution_count": 12,
   "id": "da781ac0",
   "metadata": {},
   "outputs": [
    {
     "name": "stdout",
     "output_type": "stream",
     "text": [
      "5\n"
     ]
    }
   ],
   "source": [
    "list_1=[1,2,3,4,5]\n",
    "func=lambda x:max(x)\n",
    "max_value=func(list_1)\n",
    "print (max_value)\n"
   ]
  },
  {
   "cell_type": "markdown",
   "id": "9125846a",
   "metadata": {},
   "source": [
    "8. Implement a lambda function to filter out all the even numbers from a list of integers."
   ]
  },
  {
   "cell_type": "code",
   "execution_count": 14,
   "id": "1ec26ab9",
   "metadata": {},
   "outputs": [
    {
     "name": "stdout",
     "output_type": "stream",
     "text": [
      "[22, 24, 26, 28]\n"
     ]
    }
   ],
   "source": [
    "list_1=[21,22,23,24,25,26,27,28]\n",
    "func=lambda x:x%2==0\n",
    "even_no=list(filter(func,list_1))\n",
    "print(even_no)"
   ]
  },
  {
   "cell_type": "markdown",
   "id": "f23ae421",
   "metadata": {},
   "source": [
    "9. Write a lambda function to sort a list of strings in ascending order based on the length of each\n",
    "string."
   ]
  },
  {
   "cell_type": "code",
   "execution_count": 17,
   "id": "9fef4eed",
   "metadata": {},
   "outputs": [
    {
     "name": "stdout",
     "output_type": "stream",
     "text": [
      "['punit', 'laxman', 'mahesh', 'swapnil', 'pradynesh']\n"
     ]
    }
   ],
   "source": [
    "list_2=[\"pradynesh\",\"laxman\",\"swapnil\",\"punit\",\"mahesh\"]\n",
    "sorted_list=sorted(list_2,key=lambda x:len(x))\n",
    "print(sorted_list)"
   ]
  },
  {
   "cell_type": "markdown",
   "id": "def0dadd",
   "metadata": {},
   "source": [
    "10. Create a lambda function that takes two lists as input and returns a new list containing the\n",
    "common elements between the two lists."
   ]
  },
  {
   "cell_type": "code",
   "execution_count": 20,
   "id": "e04a0ec9",
   "metadata": {},
   "outputs": [
    {
     "name": "stdout",
     "output_type": "stream",
     "text": [
      "[23, 24, 25]\n"
     ]
    }
   ],
   "source": [
    "\n",
    "list_1=[21,22,23,24,25]\n",
    "list_2=[23,24,25,26,27]\n",
    "common=lambda x,y:filter(lambda element:element in x,y)\n",
    "common_elements=list(common(list_1,list_2))\n",
    "print(common_elements)"
   ]
  },
  {
   "cell_type": "markdown",
   "id": "52e2407e",
   "metadata": {},
   "source": [
    "11. Write a recursive function to calculate the factorial of a given positive integer."
   ]
  },
  {
   "cell_type": "code",
   "execution_count": 23,
   "id": "4badc460",
   "metadata": {},
   "outputs": [],
   "source": [
    "def factorial(x):\n",
    "    if x==0 or x==1:\n",
    "        return 1\n",
    "    else:\n",
    "        return x*factorial(x-1)\n",
    "    \n"
   ]
  },
  {
   "cell_type": "code",
   "execution_count": 24,
   "id": "fb4f7506",
   "metadata": {},
   "outputs": [
    {
     "data": {
      "text/plain": [
       "120"
      ]
     },
     "execution_count": 24,
     "metadata": {},
     "output_type": "execute_result"
    }
   ],
   "source": [
    "factorial(5)"
   ]
  },
  {
   "cell_type": "markdown",
   "id": "4412786c",
   "metadata": {},
   "source": [
    "12. Implement a recursive function to compute the nth Fibonacci number."
   ]
  },
  {
   "cell_type": "code",
   "execution_count": 33,
   "id": "99f69a6b",
   "metadata": {},
   "outputs": [],
   "source": [
    "def fib_series(n):\n",
    "    if n==1:\n",
    "        return 0\n",
    "    elif n==2:\n",
    "        return 1\n",
    "    else:\n",
    "        return fib_series(n-1)+fib_series(n-2)\n",
    "\n",
    "    \n",
    "    "
   ]
  },
  {
   "cell_type": "code",
   "execution_count": 36,
   "id": "8949249b",
   "metadata": {},
   "outputs": [
    {
     "data": {
      "text/plain": [
       "13"
      ]
     },
     "execution_count": 36,
     "metadata": {},
     "output_type": "execute_result"
    }
   ],
   "source": [
    "fib_series(8)\n",
    "        "
   ]
  },
  {
   "cell_type": "markdown",
   "id": "8b6c7f3c",
   "metadata": {},
   "source": [
    "13. Create a recursive function to find the sum of all the elements in a given list."
   ]
  },
  {
   "cell_type": "code",
   "execution_count": 37,
   "id": "22350560",
   "metadata": {},
   "outputs": [
    {
     "name": "stdout",
     "output_type": "stream",
     "text": [
      "The sum of all elements in the list is: 15\n"
     ]
    }
   ],
   "source": [
    "def sum_recursive(lst):\n",
    "    if not lst:\n",
    "        return 0\n",
    "    else:\n",
    "        return lst[0] + sum_recursive(lst[1:])\n",
    "\n",
    "\n",
    "my_list = [1, 2, 3, 4, 5]\n",
    "result = sum_recursive(my_list)\n",
    "print(f\"The sum of all elements in the list is: {result}\")  \n"
   ]
  },
  {
   "cell_type": "markdown",
   "id": "6d53f04d",
   "metadata": {},
   "source": [
    "14. Write a recursive function to determine whether a given string is a palindrome."
   ]
  },
  {
   "cell_type": "code",
   "execution_count": 40,
   "id": "dfaed98c",
   "metadata": {},
   "outputs": [
    {
     "name": "stdout",
     "output_type": "stream",
     "text": [
      "True\n",
      "False\n"
     ]
    }
   ],
   "source": [
    "def is_palindrome_recursive(s):\n",
    "  \n",
    "    if len(s) <= 1:\n",
    "        return True\n",
    "    \n",
    "    # Recursive case: Check if the first and last characters are the same\n",
    "    if s[0] == s[-1]:\n",
    "        # If the first and last characters are the same, check the rest of the string\n",
    "        return is_palindrome_recursive(s[1:-1])\n",
    "    else:\n",
    "        # If the first and last characters are different, it's not a palindrome\n",
    "        return False\n",
    "\n",
    "# Test the function with a sample palindrome and non-palindrome\n",
    "palindrome_str = \"malayalam\"\n",
    "non_palindrome_str = \"hello\"\n",
    "\n",
    "print(is_palindrome_recursive(palindrome_str))       \n",
    "print(is_palindrome_recursive(non_palindrome_str))   \n"
   ]
  },
  {
   "cell_type": "markdown",
   "id": "f2af4ca9",
   "metadata": {},
   "source": [
    "15. Implement a recursive function to find the greatest common divisor (GCD) of two positive integers."
   ]
  },
  {
   "cell_type": "code",
   "execution_count": 41,
   "id": "ec13f8d7",
   "metadata": {},
   "outputs": [
    {
     "name": "stdout",
     "output_type": "stream",
     "text": [
      "The greatest common divisor of 48 and 18 is: 6\n"
     ]
    }
   ],
   "source": [
    "def gcd_recursive(a, b):\n",
    "    if b == 0:\n",
    "        return a\n",
    "    else:\n",
    "        return gcd_recursive(b, a % b)\n",
    "\n",
    "# Test the function with two positive integers\n",
    "num1 = 48\n",
    "num2 = 18\n",
    "result = gcd_recursive(num1, num2)\n",
    "print(f\"The greatest common divisor of {num1} and {num2} is: {result}\")  # Output: The greatest common divisor of 48 and 18 is: 6\n",
    "\n"
   ]
  }
 ],
 "metadata": {
  "kernelspec": {
   "display_name": "Python 3 (ipykernel)",
   "language": "python",
   "name": "python3"
  },
  "language_info": {
   "codemirror_mode": {
    "name": "ipython",
    "version": 3
   },
   "file_extension": ".py",
   "mimetype": "text/x-python",
   "name": "python",
   "nbconvert_exporter": "python",
   "pygments_lexer": "ipython3",
   "version": "3.10.9"
  }
 },
 "nbformat": 4,
 "nbformat_minor": 5
}

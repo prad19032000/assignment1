{
 "cells": [
  {
   "cell_type": "markdown",
   "id": "c1e1e119",
   "metadata": {},
   "source": [
    "1. What is the role of try and exception block?"
   ]
  },
  {
   "cell_type": "markdown",
   "id": "b5e17a83",
   "metadata": {},
   "source": [
    "The try and except blocks allow you to gracefully handle exceptions, log error information, provide fallback behavior, and continue the program's execution even in the presence of errors"
   ]
  },
  {
   "cell_type": "markdown",
   "id": "4bb59575",
   "metadata": {},
   "source": [
    "2. What is the syntax for a basic try-except block?"
   ]
  },
  {
   "cell_type": "code",
   "execution_count": null,
   "id": "f528a85f",
   "metadata": {},
   "outputs": [],
   "source": [
    "try:\n",
    "    x = 10 / 0  # This will raise a ZeroDivisionError\n",
    "except ZeroDivisionError:\n",
    "    print(\"Error: Division by zero\")\n"
   ]
  },
  {
   "cell_type": "markdown",
   "id": "e8a336e7",
   "metadata": {},
   "source": [
    "3. What happens if an exception occurs inside a try block and there is no matching\n",
    "except block?"
   ]
  },
  {
   "cell_type": "markdown",
   "id": "82f672db",
   "metadata": {},
   "source": [
    "In this example, the try block raises a ZeroDivisionError, but the except block is designed to catch ValueError exceptions, not ZeroDivisionError. As a result, there's no matching except block to handle the exception, and the program will terminate with an unhandled exception error message."
   ]
  },
  {
   "cell_type": "code",
   "execution_count": 1,
   "id": "2ae99597",
   "metadata": {},
   "outputs": [
    {
     "ename": "ZeroDivisionError",
     "evalue": "division by zero",
     "output_type": "error",
     "traceback": [
      "\u001b[1;31m---------------------------------------------------------------------------\u001b[0m",
      "\u001b[1;31mZeroDivisionError\u001b[0m                         Traceback (most recent call last)",
      "Cell \u001b[1;32mIn[1], line 2\u001b[0m\n\u001b[0;32m      1\u001b[0m \u001b[38;5;28;01mtry\u001b[39;00m:\n\u001b[1;32m----> 2\u001b[0m     x \u001b[38;5;241m=\u001b[39m \u001b[38;5;241;43m10\u001b[39;49m\u001b[43m \u001b[49m\u001b[38;5;241;43m/\u001b[39;49m\u001b[43m \u001b[49m\u001b[38;5;241;43m0\u001b[39;49m  \u001b[38;5;66;03m# This will raise a ZeroDivisionError\u001b[39;00m\n\u001b[0;32m      3\u001b[0m \u001b[38;5;28;01mexcept\u001b[39;00m \u001b[38;5;167;01mValueError\u001b[39;00m:\n\u001b[0;32m      4\u001b[0m     \u001b[38;5;28mprint\u001b[39m(\u001b[38;5;124m\"\u001b[39m\u001b[38;5;124mCaught a ValueError\u001b[39m\u001b[38;5;124m\"\u001b[39m)\n",
      "\u001b[1;31mZeroDivisionError\u001b[0m: division by zero"
     ]
    }
   ],
   "source": [
    "try:\n",
    "    x = 10 / 0  # This will raise a ZeroDivisionError\n",
    "except ValueError:\n",
    "    print(\"Caught a ValueError\")\n"
   ]
  },
  {
   "cell_type": "markdown",
   "id": "9b70eaa1",
   "metadata": {},
   "source": [
    "4. What is the difference between using a bare except block and specifying a specific\n",
    "exception type?"
   ]
  },
  {
   "cell_type": "markdown",
   "id": "f1831afc",
   "metadata": {},
   "source": [
    "When you use a bare except block, without specifying any exception type, it will catch any type of exception that occurs within the try block.When you specify a specific exception type after the except keyword, like except ValueError, you catch only that specific type of exception. This approach is more controlled and allows you to handle different types of exceptions in specific ways."
   ]
  },
  {
   "cell_type": "markdown",
   "id": "bfb99707",
   "metadata": {},
   "source": [
    "5. Can you have nested try-except blocks in Python? If yes, then give an example."
   ]
  },
  {
   "cell_type": "markdown",
   "id": "a769183b",
   "metadata": {},
   "source": [
    "Yes we can have a nested blocks in python."
   ]
  },
  {
   "cell_type": "code",
   "execution_count": null,
   "id": "eb3c3189",
   "metadata": {},
   "outputs": [],
   "source": [
    "try:\n",
    "    # Outer try block\n",
    "    num = int(input(\"Enter a number: \"))\n",
    "    \n",
    "    try:\n",
    "        # Inner try block\n",
    "        result = 10 / num\n",
    "        print(f\"Result: {result}\")\n",
    "    except ZeroDivisionError:\n",
    "        print(\"Error: Division by zero\")\n",
    "    except ValueError:\n",
    "        print(\"Error: Invalid input\")\n",
    "except ValueError:\n",
    "    print(\"Error: Invalid input for the outer try block\")\n"
   ]
  },
  {
   "cell_type": "markdown",
   "id": "99ca1080",
   "metadata": {},
   "source": [
    "6. Can we use multiple exception blocks, if yes then give an example."
   ]
  },
  {
   "cell_type": "code",
   "execution_count": null,
   "id": "0a9f5bbf",
   "metadata": {},
   "outputs": [],
   "source": [
    "Yes we can use multiple exception blocks."
   ]
  },
  {
   "cell_type": "code",
   "execution_count": null,
   "id": "9ff4ed2d",
   "metadata": {},
   "outputs": [],
   "source": [
    "try:\n",
    "    num = int(input(\"Enter a number: \"))\n",
    "        \n",
    "    result = 10 / num\n",
    "    print(f\"Result: {result}\")\n",
    "except ZeroDivisionError:\n",
    "    print(\"Error: Division by zero\")\n",
    "except ValueError:\n",
    "    print(\"Error: Invalid input\")"
   ]
  },
  {
   "cell_type": "markdown",
   "id": "0679049d",
   "metadata": {},
   "source": [
    "7. Write the reason due to which following errors are raised:\n",
    "a. EOFError\n",
    "b. FloatingPointError\n",
    "c. IndexError\n",
    "d. MemoryError\n",
    "e. OverflowError\n",
    "f. TabError\n",
    "g. ValueError"
   ]
  },
  {
   "cell_type": "markdown",
   "id": "3715bb04",
   "metadata": {},
   "source": [
    "a. EOFError: Stands for \"End of File Error.\" It raises when you try to read from a file that has already been fully read.\n",
    "\n",
    "b. FloatingPointError: When calculations result in values that are too large or too small to be represented as floating-point numbers.\n",
    "\n",
    "c. IndexError:  This occurs when you try to access an index that doesn't exist in the sequence.\n",
    "\n",
    "d. MemoryError:This usually occurs when trying to allocate more memory than is available in the system.\n",
    "\n",
    "e. OverflowError:This occurs when performing calculations that result in a value larger than what can be represented by the data type.\n",
    "\n",
    "f. TabError: Raised when inconsistent use of tabs and spaces in indentation causes an indentation error. \n",
    "\n",
    "g. ValueError: Raised when a function receives an argument of correct data type but an inappropriate value. For example, trying to convert a string to an integer when the string doesn't represent a valid integer."
   ]
  },
  {
   "cell_type": "code",
   "execution_count": null,
   "id": "de6cce27",
   "metadata": {},
   "outputs": [],
   "source": [
    "8. Write code for the following given scenario and add try-exception block to it.\n",
    "a. Program to divide two numbers\n",
    "b. Program to convert a string to an integer\n",
    "c. Program to access an element in a list\n",
    "d. Program to handle a specific exception\n",
    "e. Program to handle any exception"
   ]
  },
  {
   "cell_type": "code",
   "execution_count": 6,
   "id": "b06c32f0",
   "metadata": {},
   "outputs": [
    {
     "name": "stdout",
     "output_type": "stream",
     "text": [
      "enter a number10\n",
      "enter a number0\n",
      "You have entered an invalid value\n"
     ]
    }
   ],
   "source": [
    "#a\n",
    "try:\n",
    "    a=int(input(\"enter a number\"))\n",
    "    b=int(input(\"enter a number\"))\n",
    "    result=a/b\n",
    "    print(result)\n",
    "except:\n",
    "    print(\"You have entered an invalid value\")"
   ]
  },
  {
   "cell_type": "code",
   "execution_count": 7,
   "id": "c998195a",
   "metadata": {},
   "outputs": [
    {
     "name": "stdout",
     "output_type": "stream",
     "text": [
      "Enter an integer: 54\n",
      "Integer: 54\n"
     ]
    }
   ],
   "source": [
    "#b\n",
    "try:\n",
    "    user_input = input(\"Enter an integer: \")\n",
    "    integer_value = int(user_input)\n",
    "    print(\"Integer:\", integer_value)\n",
    "except ValueError:\n",
    "    print(\"Error: Invalid input\")\n"
   ]
  },
  {
   "cell_type": "code",
   "execution_count": null,
   "id": "25a93704",
   "metadata": {},
   "outputs": [],
   "source": [
    "#c\n",
    "my_list = [10, 20, 30]\n",
    "\n",
    "try:\n",
    "    index = int(input(\"Enter an index: \"))\n",
    "    value = my_list[index]\n",
    "    print(\"Value:\", value)\n",
    "except IndexError:\n",
    "    print(\"Error: Index out of range\")\n",
    "except ValueError:\n",
    "    print(\"Error: Invalid index input\")\n"
   ]
  },
  {
   "cell_type": "code",
   "execution_count": 10,
   "id": "912eae39",
   "metadata": {},
   "outputs": [
    {
     "name": "stdout",
     "output_type": "stream",
     "text": [
      "Enter a positive number: -54\n",
      "Error: Input must be positive\n"
     ]
    }
   ],
   "source": [
    "#d\n",
    "try:\n",
    "    number = int(input(\"Enter a positive number: \"))\n",
    "    if number < 0:\n",
    "        raise ValueError(\"Input must be positive\")\n",
    "    print(\"Number:\", number)\n",
    "except ValueError as ve:\n",
    "    print(\"Error:\", ve)\n"
   ]
  },
  {
   "cell_type": "code",
   "execution_count": 8,
   "id": "2d32868f",
   "metadata": {},
   "outputs": [
    {
     "name": "stdout",
     "output_type": "stream",
     "text": [
      "An error occurred: division by zero\n"
     ]
    }
   ],
   "source": [
    "#e\n",
    "try:\n",
    "    x = 10 / 0  # This will raise a ZeroDivisionError\n",
    "except Exception as e:\n",
    "    print(\"An error occurred:\", e)"
   ]
  }
 ],
 "metadata": {
  "kernelspec": {
   "display_name": "Python 3 (ipykernel)",
   "language": "python",
   "name": "python3"
  },
  "language_info": {
   "codemirror_mode": {
    "name": "ipython",
    "version": 3
   },
   "file_extension": ".py",
   "mimetype": "text/x-python",
   "name": "python",
   "nbconvert_exporter": "python",
   "pygments_lexer": "ipython3",
   "version": "3.10.9"
  }
 },
 "nbformat": 4,
 "nbformat_minor": 5
}

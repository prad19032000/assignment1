{
 "cells": [
  {
   "cell_type": "markdown",
   "id": "853288c8",
   "metadata": {},
   "source": [
    "1. Explain what inheritance is in object-oriented programming and why it is used."
   ]
  },
  {
   "cell_type": "markdown",
   "id": "aade5dc4",
   "metadata": {},
   "source": [
    "Inheritance allows you to create classes based on existing classes, in which the child class iherits data from the base class."
   ]
  },
  {
   "cell_type": "markdown",
   "id": "e17b2424",
   "metadata": {},
   "source": [
    "2. Discuss the concept of single inheritance and multiple inheritance, highlighting their\n",
    "differences and advantages."
   ]
  },
  {
   "cell_type": "markdown",
   "id": "ee922177",
   "metadata": {},
   "source": [
    "Single inheritance enables a derived class to inherit properties from a single parent class\n",
    "When a class can be derived from more than one base class this type of inheritance is called multiple inheritances."
   ]
  },
  {
   "cell_type": "markdown",
   "id": "f6fd78e7",
   "metadata": {},
   "source": [
    "3. Explain the terms \"base class\" and \"derived class\" in the context of inheritance."
   ]
  },
  {
   "cell_type": "markdown",
   "id": "d8a9db0c",
   "metadata": {},
   "source": [
    "Base class is the class from which the data is inherited by the derived class.\n",
    "Derived class is the class which inherits data from Base class."
   ]
  },
  {
   "cell_type": "markdown",
   "id": "52e2295a",
   "metadata": {},
   "source": [
    "4. What is the significance of the \"protected\" access modifier in inheritance? How does\n",
    "it differ from \"private\" and \"public\" modifiers?"
   ]
  },
  {
   "cell_type": "markdown",
   "id": "bdd182e0",
   "metadata": {},
   "source": [
    "Protected access modifier can be accessed from the child class of the same package.\n",
    "Public modifiers can be accessed from non-child class of outside package.\n",
    "Private members cannot be accessed from the child class of outside package."
   ]
  },
  {
   "cell_type": "markdown",
   "id": "12290c6e",
   "metadata": {},
   "source": [
    "5. What is the purpose of the \"super\" keyword in inheritance? Provide an example."
   ]
  },
  {
   "cell_type": "markdown",
   "id": "14ea1946",
   "metadata": {},
   "source": [
    "super keyword is used to refer to parent class objects."
   ]
  },
  {
   "cell_type": "code",
   "execution_count": 5,
   "id": "1a95db77",
   "metadata": {},
   "outputs": [
    {
     "name": "stdout",
     "output_type": "stream",
     "text": [
      "This person is prad and his age is 23 and rollno 12\n"
     ]
    }
   ],
   "source": [
    "class Person:\n",
    "    def __init__(self,name,age):\n",
    "        self.name=name\n",
    "        self.age=age\n",
    "class stud(Person):\n",
    "    def __init__(self,name,age,rollno):\n",
    "        super().__init__(name,age)\n",
    "        self.rollno=rollno\n",
    "    def display(self):\n",
    "        print(f\"This person is {self.name} and his age is {self.age} and rollno {self.rollno}\")\n",
    "stud1=stud(\"prad\",23,12)\n",
    "stud1.display()"
   ]
  },
  {
   "cell_type": "markdown",
   "id": "852d738d",
   "metadata": {},
   "source": [
    "6. Create a base class called \"Vehicle\" with attributes like \"make\", \"model\", and \"year\".\n",
    "Then, create a derived class called \"Car\" that inherits from \"Vehicle\" and adds an\n",
    "attribute called \"fuel_type\". Implement appropriate methods in both classes."
   ]
  },
  {
   "cell_type": "code",
   "execution_count": 7,
   "id": "23d6c3d8",
   "metadata": {},
   "outputs": [
    {
     "name": "stdout",
     "output_type": "stream",
     "text": [
      "The car tata nano was made in 2000 and it runs on diesel\n"
     ]
    }
   ],
   "source": [
    "class Vehicle:\n",
    "    def __init__(self,make,model,year):\n",
    "        self.make=make\n",
    "        self.model=model\n",
    "        self.year=year\n",
    "class Car(Vehicle):\n",
    "    def __init__(self,make,model,year,fuel_type):\n",
    "        super().__init__(make,model,year)\n",
    "        self.fuel_type=fuel_type\n",
    "    def display_car(self):\n",
    "        print(f\"The car {self.make} {self.model} was made in {self.year} and it runs on {self.fuel_type}\")\n",
    "car1=Car(\"tata\",\"nano\",2000,\"diesel\")\n",
    "car1.display_car()       "
   ]
  },
  {
   "cell_type": "markdown",
   "id": "96aec9fd",
   "metadata": {},
   "source": [
    "7. Create a base class called \"Employee\" with attributes like \"name\" and \"salary.\"\n",
    "Derive two classes, \"Manager\" and \"Developer,\" from \"Employee.\" Add an additional\n",
    "attribute called \"department\" for the \"Manager\" class and \"programming_language\"\n",
    "for the \"Developer\" class."
   ]
  },
  {
   "cell_type": "code",
   "execution_count": 8,
   "id": "46155846",
   "metadata": {},
   "outputs": [],
   "source": [
    "class Employee:\n",
    "    def __init__(self,name,salary):\n",
    "        self.name=name\n",
    "        self.salary=salary\n",
    "class Manager(Employee):\n",
    "    def __init__(self,name,salary,department):\n",
    "        super().__init__(name,salary)\n",
    "        self.department=department\n",
    "    def display(self):\n",
    "        print(f\"This is {self.name} and his salary is {self.salary} and he belongs to {self.department}\")\n",
    "class Devloper(Employee):\n",
    "    def __init__(self,name,salary,pro_lang):\n",
    "        super().__init__(name,salary)\n",
    "        self.pro_lang=pro_lang\n",
    "    def display(self):\n",
    "        print(f\"This is {self.name} and his salary is {self.salary} and he belongs to {self.pro_lang}\")"
   ]
  },
  {
   "cell_type": "code",
   "execution_count": 12,
   "id": "30a49bb8",
   "metadata": {},
   "outputs": [
    {
     "name": "stdout",
     "output_type": "stream",
     "text": [
      "This is Prad and his salary is 20000 and he belongs to Data Science\n",
      "This is Prad and his salary is 2000 and he belongs to python\n"
     ]
    }
   ],
   "source": [
    "emp1=Devloper(\"Prad\",20000, \"Data Science\")\n",
    "emp1.display()\n",
    "emp2=Manager(\"Prad\",2000,\"python\")\n",
    "emp2.display()"
   ]
  },
  {
   "cell_type": "markdown",
   "id": "4abcbb04",
   "metadata": {},
   "source": [
    "8. Design a base class called \"Shape\" with attributes like \"colour\" and \"border_width.\"\n",
    "Create derived classes, \"Rectangle\" and \"Circle,\" that inherit from \"Shape\" and add\n",
    "specific attributes like \"length\" and \"width\" for the \"Rectangle\" class and \"radius\" for\n",
    "the \"Circle\" class."
   ]
  },
  {
   "cell_type": "code",
   "execution_count": 14,
   "id": "14608211",
   "metadata": {},
   "outputs": [],
   "source": [
    "class Shape:\n",
    "    def __init__(self,colour,border_width):\n",
    "        self.colour=colour\n",
    "        self.border_width=border_width\n",
    "    \n",
    "class Rectangle(Shape):\n",
    "    def __init__(self,colour,border_width,length,width):\n",
    "        super().__init__(colour,border_width)\n",
    "        self.length=length\n",
    "        self.width=width\n",
    "    def display(self):\n",
    "        print(f\"It is {self.colour} and {self.length} {self.width}\")\n",
    "class Circle(Shape):\n",
    "    def __init__(self,colour,border_width,radius):\n",
    "        super().__init__(colour,border_width)\n",
    "        self.radius=radius\n",
    "    def display(self):\n",
    "        print(f\"It is {self.colour} and {self.radius}\")"
   ]
  },
  {
   "cell_type": "code",
   "execution_count": 16,
   "id": "2adb2ad5",
   "metadata": {},
   "outputs": [
    {
     "name": "stdout",
     "output_type": "stream",
     "text": [
      "It is blue and 5\n",
      "It is red and 5 6\n"
     ]
    }
   ],
   "source": [
    "shape1=Circle(\"blue\",12,5)\n",
    "shape1.display()\n",
    "shape2=Rectangle(\"red\",12,5,6)\n",
    "shape2.display()"
   ]
  },
  {
   "cell_type": "markdown",
   "id": "8b5f1ab6",
   "metadata": {},
   "source": [
    "9. Create a base class called \"Device\" with attributes like \"brand\" and \"model.\" Derive\n",
    "two classes, \"Phone\" and \"Tablet,\" from \"Device.\" Add specific attributes like\n",
    "\"screen_size\" for the \"Phone\" class and \"battery_capacity\" for the \"Tablet\" class.\n"
   ]
  },
  {
   "cell_type": "code",
   "execution_count": 18,
   "id": "4bc699e8",
   "metadata": {},
   "outputs": [
    {
     "name": "stdout",
     "output_type": "stream",
     "text": [
      "This is oneplus nord and 23.\n"
     ]
    }
   ],
   "source": [
    "class Device:\n",
    "    def __init__(self,brand,model):\n",
    "        self.brand=brand\n",
    "        self.model=model\n",
    "class Phone(Device):\n",
    "    def __init__(self,brand,model,screen_size):\n",
    "        super().__init__(brand,model)\n",
    "        self.screen_size=screen_size\n",
    "    def display(self):\n",
    "        print(f\"This is {self.brand} {self.model} and {self.screen_size}.\")\n",
    "class Tablet(Device):\n",
    "    def __init__(self,brand,model,battery_cap):\n",
    "        super().__init__(brand,model)\n",
    "        self.battery_cap=battery_cap\n",
    "    def display(self):\n",
    "        print(f\"This is {self.brand} {self.model} \")\n",
    "dev1=Phone(\"oneplus\",\"nord\",23)\n",
    "dev1.display()"
   ]
  },
  {
   "cell_type": "markdown",
   "id": "f3a32a73",
   "metadata": {},
   "source": [
    "10. Create a base class called \"BankAccount\" with attributes like \"account_number\" and\n",
    "\"balance.\" Derive two classes, \"SavingsAccount\" and \"CheckingAccount,\" from\n",
    "\"BankAccount.\" Add specific methods like \"calculate_interest\" for the\n",
    "\"SavingsAccount\" class and \"deduct_fees\" for the \"CheckingAccount\" class."
   ]
  },
  {
   "cell_type": "code",
   "execution_count": 24,
   "id": "d035c9fd",
   "metadata": {},
   "outputs": [
    {
     "data": {
      "text/plain": [
       "480"
      ]
     },
     "execution_count": 24,
     "metadata": {},
     "output_type": "execute_result"
    }
   ],
   "source": [
    "class bankacc:\n",
    "    def __init__(self,accno,bal):\n",
    "        self.accno=accno\n",
    "        self.bal=bal\n",
    "class savingacc(bankacc):\n",
    "    def __init__(self,accno,bal):\n",
    "        super().__init__(accno,bal)\n",
    "    def cal_int(self,timeperiod):\n",
    "        interest=(self.bal*timeperiod*6)/100\n",
    "        return interest\n",
    "class Checkingacc(bankacc):\n",
    "    def __init__(self,accno,bal):\n",
    "        super().__init__(accno,bal)\n",
    "    def ded_fees(self,fees):\n",
    "        self.bal-=fees\n",
    "        return self.bal\n",
    "acc1=savingacc(123,1000)\n",
    "acc1.cal_int(2.5)\n",
    "acc2=Checkingacc(12,500)\n",
    "acc2.ded_fees(20)"
   ]
  }
 ],
 "metadata": {
  "kernelspec": {
   "display_name": "Python 3 (ipykernel)",
   "language": "python",
   "name": "python3"
  },
  "language_info": {
   "codemirror_mode": {
    "name": "ipython",
    "version": 3
   },
   "file_extension": ".py",
   "mimetype": "text/x-python",
   "name": "python",
   "nbconvert_exporter": "python",
   "pygments_lexer": "ipython3",
   "version": "3.10.9"
  }
 },
 "nbformat": 4,
 "nbformat_minor": 5
}

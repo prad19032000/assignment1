{
 "cells": [
  {
   "cell_type": "markdown",
   "id": "cb09324c",
   "metadata": {},
   "source": [
    "1. What is the primary goal of Object-Oriented Programming (OOP)?"
   ]
  },
  {
   "cell_type": "markdown",
   "id": "489a7428",
   "metadata": {},
   "source": [
    "The primary goal of OOP is to make use of code again by defining a particular class."
   ]
  },
  {
   "cell_type": "markdown",
   "id": "386d56bc",
   "metadata": {},
   "source": [
    "2. What is an object in Python?"
   ]
  },
  {
   "cell_type": "markdown",
   "id": "1a11e92c",
   "metadata": {},
   "source": [
    "The object is a instance of a class that contains data and methods."
   ]
  },
  {
   "cell_type": "markdown",
   "id": "cfe5f21c",
   "metadata": {},
   "source": [
    "3. What is a class in Python?"
   ]
  },
  {
   "cell_type": "markdown",
   "id": "b663a222",
   "metadata": {},
   "source": [
    "CLass is blueprint of creating objects which defines a set of attributes and methods."
   ]
  },
  {
   "cell_type": "markdown",
   "id": "364ec366",
   "metadata": {},
   "source": [
    "4. What are attributes and methods in a class?"
   ]
  },
  {
   "cell_type": "markdown",
   "id": "69d59652",
   "metadata": {},
   "source": [
    "Attributes are variables that hold information about an object.\n",
    "Methods are functions defined to perform certain operations on the object, they can access and modify atrributes."
   ]
  },
  {
   "cell_type": "markdown",
   "id": "dc3903aa",
   "metadata": {},
   "source": [
    "5. What is the difference between class variables and instance variables in Python?"
   ]
  },
  {
   "cell_type": "markdown",
   "id": "8202a92a",
   "metadata": {},
   "source": [
    "A class variable is a variable that is shared among all instances of the class.\n",
    "A instance variable is unique to each instance of a class.\n"
   ]
  },
  {
   "cell_type": "markdown",
   "id": "86be83cd",
   "metadata": {},
   "source": [
    "6. What is the purpose of the self parameter in Python class methods?"
   ]
  },
  {
   "cell_type": "markdown",
   "id": "e982b5ba",
   "metadata": {},
   "source": [
    "The purpose of the self parameter is used to refer to the instance of the class inside the class definition."
   ]
  },
  {
   "cell_type": "markdown",
   "id": "7dcdb97a",
   "metadata": {},
   "source": [
    "7. For a library management system, you have to design the \"Book\" class with OOP\n",
    "principles in mind. The “Book” class will have following attributes:\n",
    "a. title: Represents the title of the book.\n",
    "b. author: Represents the author(s) of the book.\n",
    "c. isbn: Represents the ISBN (International Standard Book Number) of the book.\n",
    "d. publication_year: Represents the year of publication of the book.\n",
    "e. available_copies: Represents the number of copies available for checkout.\n",
    "The class will also include the following methods:\n",
    "a. check_out(self): Decrements the available copies by one if there are copies\n",
    "available for checkout.\n",
    "b. return_book(self): Increments the available copies by one when a book is\n",
    "returned.\n",
    "c. display_book_info(self): Displays the information about the book, including its\n",
    "attributes and the number of available copies."
   ]
  },
  {
   "cell_type": "code",
   "execution_count": 9,
   "id": "0b1e9101",
   "metadata": {},
   "outputs": [],
   "source": [
    "class Book:\n",
    "    def __init__(self,title,author,isbn,publication_year,available_copies):\n",
    "        self.title=title\n",
    "        self.author=author\n",
    "        self.isbn=isbn\n",
    "        self.publication_year=publication_year\n",
    "        self.available_copies=available_copies\n",
    "    def check_out(self):\n",
    "        self.available_copies-= 1\n",
    "    def return_book(self):\n",
    "        self.available_copies+= 1\n",
    "    def display_book_info(self):\n",
    "        print(f\"The book {self.title} is written by {self.author} and it's {self.available_copies} are available\")\n",
    "        "
   ]
  },
  {
   "cell_type": "code",
   "execution_count": 12,
   "id": "1c8929e9",
   "metadata": {},
   "outputs": [
    {
     "name": "stdout",
     "output_type": "stream",
     "text": [
      "The book Prad is written by pradynesh and it's 24 are available\n",
      "The book Prad is written by pradynesh and it's 25 are available\n"
     ]
    }
   ],
   "source": [
    "Prad=Book(\"Prad\",\"pradynesh\",123,2000,25)\n",
    "Prad.check_out()\n",
    "Prad.display_book_info()\n",
    "Prad.return_book()\n",
    "Prad.display_book_info()"
   ]
  },
  {
   "cell_type": "code",
   "execution_count": null,
   "id": "21690dbf",
   "metadata": {},
   "outputs": [],
   "source": [
    "8. For a ticket booking system, you have to design the \"Ticket\" class with OOP\n",
    "principles in mind. The “Ticket” class should have the following attributes:\n",
    "a. ticket_id: Represents the unique identifier for the ticket.\n",
    "b. event_name: Represents the name of the event.\n",
    "c. event_date: Represents the date of the event.\n",
    "d. venue: Represents the venue of the event.\n",
    "e. seat_number: Represents the seat number associated with the ticket.\n",
    "f. price: Represents the price of the ticket.\n",
    "g. is_reserved: Represents the reservation status of the ticket.\n",
    "The class also includes the following methods:\n",
    "a. reserve_ticket(self): Marks the ticket as reserved if it is not already reserved.\n",
    "b. cancel_reservation(self): Cancels the reservation of the ticket if it is already\n",
    "reserved.\n",
    "c. display_ticket_info(self): Displays the information about the ticket, including its\n",
    "attributes and reservation status."
   ]
  },
  {
   "cell_type": "code",
   "execution_count": 37,
   "id": "10be6a5c",
   "metadata": {},
   "outputs": [],
   "source": [
    "class Ticket:\n",
    "    def __init__(self,ticket_id,event_name,event_date,venue,seat_number,price,is_reserved):\n",
    "        self.ticket_id=ticket_id\n",
    "        self.event_name=event_name\n",
    "        self.event_date=event_date\n",
    "        self.venue=venue\n",
    "        self.seat_number=seat_number\n",
    "        self.price=price\n",
    "        self.is_reserved=is_reserved\n",
    "    def reserve_ticket(self):\n",
    "        if self.is_reserved ==\"N\":\n",
    "            self.is_reserved=\"Y\"\n",
    "        else:\n",
    "            print(\"the ticket is already reserved\")\n",
    "    def cancel_reservation(self):\n",
    "        if self.is_reserved==\"Y\":\n",
    "            self.is_reserved=\"N\"\n",
    "    def display_ticket_info(self):\n",
    "        print(f\"The ticket_id {self.ticket_id} has a {self.is_reserved} ticket at the {self.seat_number}\")\n",
    "            \n",
    "            "
   ]
  },
  {
   "cell_type": "code",
   "execution_count": 39,
   "id": "d79c1a58",
   "metadata": {},
   "outputs": [
    {
     "name": "stdout",
     "output_type": "stream",
     "text": [
      "The ticket_id 1 has a N ticket at the 1\n",
      "The ticket_id 1 has a Y ticket at the 1\n",
      "The ticket_id 1 has a N ticket at the 1\n"
     ]
    }
   ],
   "source": [
    "t=Ticket(1,\"prad\",\"07/07/2023\",\"pune\",1,200,\"N\")\n",
    "\n",
    "t.display_ticket_info()\n",
    "t.reserve_ticket()\n",
    "t.display_ticket_info()\n",
    "t.cancel_reservation()\n",
    "t.display_ticket_info()"
   ]
  },
  {
   "cell_type": "code",
   "execution_count": null,
   "id": "bd9ff314",
   "metadata": {},
   "outputs": [],
   "source": [
    "9. You are creating a shopping cart for an e-commerce website. Using OOP to model\n",
    "the \"ShoppingCart\" functionality the class should contain following attributes and\n",
    "methods:\n",
    "a. items: Represents the list of items in the shopping cart.\n",
    "The class also includes the following methods:\n",
    "\n",
    "a. add_item(self, item): Adds an item to the shopping cart by appending it to the\n",
    "list of items.\n",
    "b. remove_item(self, item): Removes an item from the shopping cart if it exists in\n",
    "the list.\n",
    "c. view_cart(self): Displays the items currently present in the shopping cart.\n",
    "d. clear_cart(self): Clears all items from the shopping cart by reassigning an\n",
    "empty list to the items attribute."
   ]
  },
  {
   "cell_type": "code",
   "execution_count": 59,
   "id": "3cf82d46",
   "metadata": {},
   "outputs": [],
   "source": [
    "class Shoppingcart:\n",
    "    def __init__ (self):\n",
    "        self.items=[]\n",
    "      \n",
    "    def add_item(self,item):\n",
    "        self.items.append(item)\n",
    "    def remove_item(self):\n",
    "        self.items.remove(item)\n",
    "    def view_cart(self):\n",
    "        print(self.items)\n",
    "    def clear_cart(self):\n",
    "        self.items=[]"
   ]
  },
  {
   "cell_type": "code",
   "execution_count": 65,
   "id": "93a81725",
   "metadata": {},
   "outputs": [
    {
     "name": "stdout",
     "output_type": "stream",
     "text": [
      "[]\n",
      "['apple']\n",
      "[]\n"
     ]
    }
   ],
   "source": [
    "p=Shoppingcart()\n",
    "p.view_cart()\n",
    "p.add_item(\"apple\")\n",
    "p.view_cart()\n",
    "p.clear_cart()\n",
    "p.view_cart()"
   ]
  },
  {
   "cell_type": "code",
   "execution_count": null,
   "id": "e120c891",
   "metadata": {},
   "outputs": [],
   "source": [
    "10. Imagine a school management system. You have to design the \"Student\" class using\n",
    "OOP concepts.The “Student” class has the following attributes:\n",
    "a. name: Represents the name of the student.\n",
    "b. age: Represents the age of the student.\n",
    "c. grade: Represents the grade or class of the student.\n",
    "d. student_id: Represents the unique identifier for the student.\n",
    "e. attendance: Represents the attendance record of the student.\n",
    "The class should also include the following methods:\n",
    "a. update_attendance(self, date, status): Updates the attendance record of the\n",
    "student for a given date with the provided status (e.g., present or absent).\n",
    "b. get_attendance(self): Returns the attendance record of the student.\n",
    "c. get_average_attendance(self): Calculates and returns the average\n",
    "attendance percentage of the student based on their attendance record."
   ]
  },
  {
   "cell_type": "code",
   "execution_count": 15,
   "id": "676a7a7c",
   "metadata": {},
   "outputs": [],
   "source": [
    "class Person:\n",
    "    def __init__(self,name,age,grade,student_id):\n",
    "        self.name=name\n",
    "        self.age=age\n",
    "        self.grade=grade\n",
    "        self.student_id=student_id\n",
    "        self.attendance={}\n",
    "    def update_attendance(self,date,status):\n",
    "        self.attendance[date]=status\n",
    "    def get_attendance(self):\n",
    "        return self.attendance\n",
    "    def get_avg_attendance(self):\n",
    "        total_days=len(self.attendance)\n",
    "        present=[]\n",
    "        for i in self.attendance.values():\n",
    "            if i == \"p\":\n",
    "                present.append(i)\n",
    "        present_days=len(present)\n",
    "        avg=(present_days/total_days)*100\n",
    "        return avg\n",
    "   \n",
    "                \n",
    "            \n",
    "            "
   ]
  },
  {
   "cell_type": "code",
   "execution_count": 26,
   "id": "516f8ca3",
   "metadata": {},
   "outputs": [],
   "source": [
    "stud1=Person(\"prad\",23,\"c\",12)\n",
    "\n",
    "stud1.update_attendance(\"03/03/2023\",\"p\")\n",
    "\n"
   ]
  },
  {
   "cell_type": "code",
   "execution_count": 28,
   "id": "c5c8824c",
   "metadata": {},
   "outputs": [
    {
     "data": {
      "text/plain": [
       "50.0"
      ]
     },
     "execution_count": 28,
     "metadata": {},
     "output_type": "execute_result"
    }
   ],
   "source": [
    "stud1.update_attendance(\"02/03/2023\",\"a\")\n",
    "stud1.get_attendance()\n",
    "stud1.get_avg_attendance()"
   ]
  }
 ],
 "metadata": {
  "kernelspec": {
   "display_name": "Python 3 (ipykernel)",
   "language": "python",
   "name": "python3"
  },
  "language_info": {
   "codemirror_mode": {
    "name": "ipython",
    "version": 3
   },
   "file_extension": ".py",
   "mimetype": "text/x-python",
   "name": "python",
   "nbconvert_exporter": "python",
   "pygments_lexer": "ipython3",
   "version": "3.10.9"
  }
 },
 "nbformat": 4,
 "nbformat_minor": 5
}

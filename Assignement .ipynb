{
 "cells": [
  {
   "cell_type": "markdown",
   "id": "ff6e63a6",
   "metadata": {},
   "source": [
    "1.In Python, what is the difference between a built-in function and a user-defined function? Provide an\n",
    "example of each.\n"
   ]
  },
  {
   "cell_type": "markdown",
   "id": "dcf555a9",
   "metadata": {},
   "source": [
    "`A built in function is a function which is provided by python.\n",
    "User defined function are the functions defined by programmer to perform a specific task.\n"
   ]
  },
  {
   "cell_type": "code",
   "execution_count": 5,
   "id": "eb44e355",
   "metadata": {},
   "outputs": [
    {
     "data": {
      "text/plain": [
       "16"
      ]
     },
     "execution_count": 5,
     "metadata": {},
     "output_type": "execute_result"
    }
   ],
   "source": [
    "#Built in function\n",
    "list1=[1,2,3,4]\n",
    "len(list1)#output 4\n",
    "#User defined function\n",
    "def sqr(x):\n",
    "    return x*x\n",
    "sqr(4)"
   ]
  },
  {
   "cell_type": "markdown",
   "id": "ab50cf58",
   "metadata": {},
   "source": [
    "2.How can you pass arguments to a function in Python? Explain the difference between positional\n",
    "arguments and keyword arguments.\n"
   ]
  },
  {
   "cell_type": "markdown",
   "id": "38fa8dd6",
   "metadata": {},
   "source": [
    "In python you can pass arguments to a function to provide input values that the function will work with.\n",
    "Positional arguments correspond to the parameters  defined in the function's parameter list in order which you provide them.\n",
    "Keyword arguments are particularly useful when you want to provide only a subset of the function's parameters."
   ]
  },
  {
   "cell_type": "markdown",
   "id": "7e9f97bc",
   "metadata": {},
   "source": [
    "3. What is the purpose of the return statement in a function? Can a function have multiple return\n",
    "statements? Explain with an example"
   ]
  },
  {
   "cell_type": "markdown",
   "id": "328fdf88",
   "metadata": {},
   "source": [
    "A return statement is used to end the execution of the function call and “returns” the result (value of the expression following the return keyword) to the caller. A function can have a multiple return statements but it would execute only one based on the conditions."
   ]
  },
  {
   "cell_type": "code",
   "execution_count": 10,
   "id": "676623dd",
   "metadata": {},
   "outputs": [
    {
     "data": {
      "text/plain": [
       "36"
      ]
     },
     "execution_count": 10,
     "metadata": {},
     "output_type": "execute_result"
    }
   ],
   "source": [
    "def sqr(x):\n",
    "    if x%2==0:\n",
    "        return x*x\n",
    "    elif x%2==1:\n",
    "        return x*5\n",
    "    else:\n",
    "        return 0\n",
    "sqr(6)"
   ]
  },
  {
   "cell_type": "markdown",
   "id": "5c00f68c",
   "metadata": {},
   "source": [
    "4. What are lambda functions in Python? How are they different from regular functions? Provide an\n",
    "example where a lambda function can be useful."
   ]
  },
  {
   "cell_type": "markdown",
   "id": "95072897",
   "metadata": {},
   "source": [
    "A lambda function is a anonymous function that can take any number of arguments but returns only expression which separates it from different functions."
   ]
  },
  {
   "cell_type": "code",
   "execution_count": null,
   "id": "54671125",
   "metadata": {},
   "outputs": [],
   "source": [
    "# Regular function\n",
    "def square(x):\n",
    "    return x * x\n",
    "\n",
    "# Equivalent lambda function\n",
    "sqr_lambda = lambda x: x * x\n",
    "\n",
    "# Using the lambda function\n",
    "print(sqr_lambda(5))  # Output: 25\n"
   ]
  },
  {
   "cell_type": "markdown",
   "id": "2920403d",
   "metadata": {},
   "source": [
    "5. How does the concept of \"scope\" apply to functions in Python? Explain the difference between local\n",
    "scope and global scope.\n"
   ]
  },
  {
   "cell_type": "markdown",
   "id": "e640b67b",
   "metadata": {},
   "source": [
    "There are two types of variables: global variables and local variables. The scope of global variables is the entire program whereas the scope of local variable is limited to the function where it is defined."
   ]
  },
  {
   "cell_type": "markdown",
   "id": "05d9c1ed",
   "metadata": {},
   "source": [
    "6. How can you use the \"return\" statement in a Python function to return multiple values?"
   ]
  },
  {
   "cell_type": "markdown",
   "id": "4196e73b",
   "metadata": {},
   "source": [
    "We can use a return statement in python to return multiple values by packing them into a data structure like list,tuples."
   ]
  },
  {
   "cell_type": "markdown",
   "id": "bf1fda2e",
   "metadata": {},
   "source": [
    "7. What is the difference between the \"pass by value\" and \"pass by reference\" concepts when it\n",
    "comes to function arguments in Python?\n"
   ]
  },
  {
   "cell_type": "markdown",
   "id": "aef34d2d",
   "metadata": {},
   "source": [
    "In Python, when you pass an argument to a function, you are passing a reference to the object. However, this reference is effectively a \"copy\" of the reference. The key point is that the function can access and modify the contents of the object being referred to, but the reference itself cannot be changed within the function to refer to a different object."
   ]
  },
  {
   "cell_type": "markdown",
   "id": "c1764d69",
   "metadata": {},
   "source": [
    "8. Create a function that can intake integer or decimal value and do following operations:\n",
    "a. Logarithmic function (log x)\n",
    "b. Exponential function (exp(x))\n",
    "c. Power function with base 2 (2\n",
    "x\n",
    ")\n",
    "d. Square root"
   ]
  },
  {
   "cell_type": "code",
   "execution_count": 14,
   "id": "45d6e437",
   "metadata": {},
   "outputs": [
    {
     "name": "stdout",
     "output_type": "stream",
     "text": [
      "Logarithmic result: 1.3862943611198906\n",
      "Exponential result: 54.598150033144236\n",
      "Power result (2^4): 16.0\n",
      "Square root result: 2.0\n"
     ]
    }
   ],
   "source": [
    "import math\n",
    "\n",
    "def perform_operations(x):\n",
    "    # Logarithmic function (log x)\n",
    "    log_result = math.log(x)\n",
    "    \n",
    "    # Exponential function (exp(x))\n",
    "    exp_result = math.exp(x)\n",
    "    \n",
    "    # Power function with base 2 (2^x)\n",
    "    power_result = math.pow(2, x)\n",
    "    \n",
    "    # Square root\n",
    "    sqrt_result = math.sqrt(x)\n",
    "    \n",
    "    return log_result, exp_result, power_result, sqrt_result\n",
    "\n",
    "# Test the function with a value\n",
    "value = 4\n",
    "log_result, exp_result, power_result, sqrt_result = perform_operations(value)\n",
    "\n",
    "print(f\"Logarithmic result: {log_result}\")\n",
    "print(f\"Exponential result: {exp_result}\")\n",
    "print(f\"Power result (2^{value}): {power_result}\")\n",
    "print(f\"Square root result: {sqrt_result}\")\n"
   ]
  },
  {
   "cell_type": "markdown",
   "id": "b8683a0c",
   "metadata": {},
   "source": [
    "9. Create a function that takes a full name as an argument and returns first name and last name."
   ]
  },
  {
   "cell_type": "code",
   "execution_count": 18,
   "id": "e753e615",
   "metadata": {},
   "outputs": [
    {
     "data": {
      "text/plain": [
       "('Pradynesh', 'Sawant')"
      ]
     },
     "execution_count": 18,
     "metadata": {},
     "output_type": "execute_result"
    }
   ],
   "source": [
    "def get_first_last_name(full_name):\n",
    "    names = full_name.split()\n",
    "    \n",
    "    if len(names) >= 2:\n",
    "        first_name = names[0]\n",
    "        last_name = ' '.join(names[1:])\n",
    "        return first_name, last_name\n",
    "    else:\n",
    "        return None\n",
    "get_first_last_name(\"Pradynesh Sawant\")"
   ]
  }
 ],
 "metadata": {
  "kernelspec": {
   "display_name": "Python 3 (ipykernel)",
   "language": "python",
   "name": "python3"
  },
  "language_info": {
   "codemirror_mode": {
    "name": "ipython",
    "version": 3
   },
   "file_extension": ".py",
   "mimetype": "text/x-python",
   "name": "python",
   "nbconvert_exporter": "python",
   "pygments_lexer": "ipython3",
   "version": "3.10.9"
  }
 },
 "nbformat": 4,
 "nbformat_minor": 5
}

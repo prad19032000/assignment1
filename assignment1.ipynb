{
 "cells": [
  {
   "cell_type": "markdown",
   "id": "92be3409-4751-4e42-b762-2c2f5f77946e",
   "metadata": {},
   "source": [
    "### 1. In the below elements which of them are values or an expression? eg:- values can be integer or string and expressions will be mathematical operators."
   ]
  },
  {
   "cell_type": "raw",
   "id": "808f4fb9-6287-4c72-8045-c92f810a5e32",
   "metadata": {},
   "source": [
    "'hello',-87.8,6 are values.\n",
    "'/','*','-','+'are "
   ]
  },
  {
   "cell_type": "markdown",
   "id": "6c96e0f9-bbeb-41b7-8827-dda8833a3059",
   "metadata": {},
   "source": [
    "### 2. What is the difference between string and variable?"
   ]
  },
  {
   "cell_type": "raw",
   "id": "1c159804-b9b5-4850-a9c1-5a34d531d2a8",
   "metadata": {},
   "source": [
    "A variable is a term given to the particular word which has a certain value defined to it,\n",
    "while string is the value which is defined to the certain variable.\n",
    "for e.g fruits(variable)=\"mango\"(string)\n"
   ]
  },
  {
   "cell_type": "markdown",
   "id": "9d35b0a0-2bc9-4b7d-b9f5-957c369206e1",
   "metadata": {},
   "source": [
    "### 3. Describe three different data types."
   ]
  },
  {
   "cell_type": "raw",
   "id": "9b30ed7d-c990-4ddb-9066-adb80f3f68da",
   "metadata": {},
   "source": [
    "String \n",
    "It is a data type which is a word that defines a variable.\n",
    "Integer\n",
    "It is a data type which has a numbers without decimal point.\n",
    "Float\n",
    "It is a data type which has a numbers with or without decimal point.\n"
   ]
  },
  {
   "cell_type": "markdown",
   "id": "0e204e7b-7d3f-405f-a99c-bb3f32ca60a3",
   "metadata": {},
   "source": [
    "### 4. What is an expression made up of? What do all expressions do?"
   ]
  },
  {
   "cell_type": "raw",
   "id": "374d9aef-e2c8-41a1-83c4-90f15e91a959",
   "metadata": {},
   "source": [
    "Expression is made up of variables and operators. Expressions perform calculations and help in programming.\n"
   ]
  },
  {
   "cell_type": "markdown",
   "id": "febb4a86-71bd-4557-84b0-4a8825cbe485",
   "metadata": {},
   "source": [
    "### 5. This assignment statements, like spam = 10. What is the difference between an expression and a statement?"
   ]
  },
  {
   "cell_type": "raw",
   "id": "82bca2ef-f751-4767-8ff5-1e35bad5db82",
   "metadata": {},
   "source": [
    "Expression is a code which has variables and operators while statement is a code which defines a certain variable.\n",
    "example: spam * 10 is a expression\n",
    "while spam= 10 is a statement."
   ]
  },
  {
   "cell_type": "markdown",
   "id": "fdde430b-50b6-4a02-bf35-a44c303e0c74",
   "metadata": {},
   "source": [
    "### 6. After running the following code, what does the variable bacon contain?"
   ]
  },
  {
   "cell_type": "code",
   "execution_count": 1,
   "id": "45e1f193-b265-49d8-99ed-a982ca32aab9",
   "metadata": {},
   "outputs": [
    {
     "name": "stdout",
     "output_type": "stream",
     "text": [
      "22\n"
     ]
    }
   ],
   "source": [
    "bacon=22\n",
    "bacon+1\n",
    "print(bacon)"
   ]
  },
  {
   "cell_type": "markdown",
   "id": "4fff2411-4647-420c-b47a-18f71ab49739",
   "metadata": {},
   "source": [
    "### 7. What should the values of the following two terms be?"
   ]
  },
  {
   "cell_type": "code",
   "execution_count": 4,
   "id": "560a28c0-130b-4cbe-ad04-1f9f528a272c",
   "metadata": {},
   "outputs": [
    {
     "data": {
      "text/plain": [
       "'spamspamspam'"
      ]
     },
     "execution_count": 4,
     "metadata": {},
     "output_type": "execute_result"
    }
   ],
   "source": [
    "'spam'+'spamspam'"
   ]
  },
  {
   "cell_type": "code",
   "execution_count": 14,
   "id": "40b53efd-23ad-428e-b7bf-517183db665c",
   "metadata": {},
   "outputs": [
    {
     "data": {
      "text/plain": [
       "'spamspamspam'"
      ]
     },
     "execution_count": 14,
     "metadata": {},
     "output_type": "execute_result"
    }
   ],
   "source": [
    "'spam'*3"
   ]
  },
  {
   "cell_type": "markdown",
   "id": "acac1d73-1282-44fd-bd9a-84161e30d514",
   "metadata": {},
   "source": [
    "### 8. Why is eggs a valid variable name while 100 is invalid?"
   ]
  },
  {
   "cell_type": "raw",
   "id": "f29549f8-8be7-46d7-a060-d50ee2fe1a0f",
   "metadata": {},
   "source": [
    "Variable name should start with '_' or alphabets and can contain alphabets, characters or numbers in it. Therefore as 'eggs'starts with an alphabet and '100' doesn't so '100' is invalid and eggs is valid."
   ]
  },
  {
   "cell_type": "markdown",
   "id": "71fe59a3-3f19-4bc6-95db-076e2928f58c",
   "metadata": {},
   "source": [
    "### 9. What three functions can be used to get the integer, floating-point number, or string version of a value?"
   ]
  },
  {
   "cell_type": "raw",
   "id": "c49cca85-a56d-439b-bcf3-70eaff79c96a",
   "metadata": {},
   "source": [
    "'int','str','float' are the functions which can be used to get intger,string, or float version of a value.\n",
    "example; \n",
    "int(54.40)=54\n",
    "str(54.40)='54.4'\n",
    "float(54.40)=54.40\n"
   ]
  },
  {
   "cell_type": "markdown",
   "id": "323b1d60-6d72-48b6-ae59-13edee43f15b",
   "metadata": {},
   "source": [
    "### 10. Why does this expression cause an error? How can you fix it? 'I have eaten'  + 99 + 'burritos.'"
   ]
  },
  {
   "cell_type": "raw",
   "id": "0e03f09b-386c-4252-b9bd-b2c02921e811",
   "metadata": {},
   "source": [
    "As we cannot concatenate strings with an integer we got an error.\n",
    "By converting 99 into a string we can fix it.\n",
    "\n",
    "\n",
    "'I have eaten'+ ' 99 '+'buritoes.'"
   ]
  }
 ],
 "metadata": {
  "kernelspec": {
   "display_name": "Python 3 (ipykernel)",
   "language": "python",
   "name": "python3"
  },
  "language_info": {
   "codemirror_mode": {
    "name": "ipython",
    "version": 3
   },
   "file_extension": ".py",
   "mimetype": "text/x-python",
   "name": "python",
   "nbconvert_exporter": "python",
   "pygments_lexer": "ipython3",
   "version": "3.10.9"
  }
 },
 "nbformat": 4,
 "nbformat_minor": 5
}

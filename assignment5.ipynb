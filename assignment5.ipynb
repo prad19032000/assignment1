{
 "cells": [
  {
   "cell_type": "markdown",
   "id": "010c88d1",
   "metadata": {},
   "source": [
    "1. What does an empty dictionary&#39;s code look like?"
   ]
  },
  {
   "cell_type": "markdown",
   "id": "a2af27d7",
   "metadata": {},
   "source": [
    "An empty dictionary looks like \"{}\"."
   ]
  },
  {
   "cell_type": "markdown",
   "id": "d0829f27",
   "metadata": {},
   "source": [
    "2. What is the value of a dictionary value with the key &#39;foo&#39; and the value 42?"
   ]
  },
  {
   "cell_type": "code",
   "execution_count": null,
   "id": "e3bb580d",
   "metadata": {},
   "outputs": [],
   "source": [
    "{\"foo\":42}"
   ]
  },
  {
   "cell_type": "markdown",
   "id": "11b4a719",
   "metadata": {},
   "source": [
    "3. What is the most significant distinction between a dictionary and a list?"
   ]
  },
  {
   "cell_type": "markdown",
   "id": "cbddcf0b",
   "metadata": {},
   "source": [
    "A list is ordered collection of elements, whereas dictionary is a unordered collection of key-value pairs.\n",
    "In list [ ] are used whereas in list dictionary { } are used."
   ]
  },
  {
   "cell_type": "markdown",
   "id": "27acb77f",
   "metadata": {},
   "source": [
    "4. What happens if you try to access spam[&#39;foo&#39;] if spam is {&#39;bar&#39;: 100}?"
   ]
  },
  {
   "cell_type": "code",
   "execution_count": 3,
   "id": "997b6f54",
   "metadata": {},
   "outputs": [
    {
     "ename": "KeyError",
     "evalue": "'foo'",
     "output_type": "error",
     "traceback": [
      "\u001b[1;31m---------------------------------------------------------------------------\u001b[0m",
      "\u001b[1;31mKeyError\u001b[0m                                  Traceback (most recent call last)",
      "Cell \u001b[1;32mIn[3], line 2\u001b[0m\n\u001b[0;32m      1\u001b[0m spam \u001b[38;5;241m=\u001b[39m {\u001b[38;5;124m'\u001b[39m\u001b[38;5;124mbar\u001b[39m\u001b[38;5;124m'\u001b[39m:\u001b[38;5;241m100\u001b[39m}\n\u001b[1;32m----> 2\u001b[0m \u001b[43mspam\u001b[49m\u001b[43m[\u001b[49m\u001b[38;5;124;43m'\u001b[39;49m\u001b[38;5;124;43mfoo\u001b[39;49m\u001b[38;5;124;43m'\u001b[39;49m\u001b[43m]\u001b[49m\n",
      "\u001b[1;31mKeyError\u001b[0m: 'foo'"
     ]
    }
   ],
   "source": [
    "spam = {'bar':100}\n",
    "spam['foo']\n",
    "\"cat\" in spam.keys()"
   ]
  },
  {
   "cell_type": "markdown",
   "id": "b947c3d7",
   "metadata": {},
   "source": [
    "5. If a dictionary is stored in spam, what is the difference between the expressions &#39;cat&#39; in spam and\n",
    "&#39;cat&#39; in spam.keys()?"
   ]
  },
  {
   "cell_type": "code",
   "execution_count": 6,
   "id": "97212e7b",
   "metadata": {},
   "outputs": [
    {
     "data": {
      "text/plain": [
       "True"
      ]
     },
     "execution_count": 6,
     "metadata": {},
     "output_type": "execute_result"
    }
   ],
   "source": [
    "spam={\"cat\":\"meow\"}\n",
    "\"cat\" in spam \n",
    "\"cat\" in spam.keys()\n",
    "#There is no difference between both the expressions as both of them will look for \"cat\" in all keys of spam."
   ]
  },
  {
   "cell_type": "markdown",
   "id": "e269c5df",
   "metadata": {},
   "source": [
    "6. If a dictionary is stored in spam, what is the difference between the expressions &#39;cat&#39; in spam and\n",
    "&#39;cat&#39; in spam.values()?"
   ]
  },
  {
   "cell_type": "code",
   "execution_count": 7,
   "id": "010c813f",
   "metadata": {},
   "outputs": [
    {
     "data": {
      "text/plain": [
       "True"
      ]
     },
     "execution_count": 7,
     "metadata": {},
     "output_type": "execute_result"
    }
   ],
   "source": [
    "spam={\"cat\":\"meow\"}\n",
    "\"cat\" in spam\n",
    "#In this case it will look for \"cat\" in all the keys of spam."
   ]
  },
  {
   "cell_type": "code",
   "execution_count": 8,
   "id": "78cbadf0",
   "metadata": {},
   "outputs": [
    {
     "data": {
      "text/plain": [
       "True"
      ]
     },
     "execution_count": 8,
     "metadata": {},
     "output_type": "execute_result"
    }
   ],
   "source": [
    "spam={\"animal\":\"cat\"}\n",
    "\"cat\" in spam.values()\n",
    "#In this case it will look for \"cat\" in all the values of spam"
   ]
  },
  {
   "cell_type": "markdown",
   "id": "16e85527",
   "metadata": {},
   "source": [
    "7. What is a shortcut for the following code?\n",
    "if &#39;color&#39; not in spam:\n",
    "spam[&#39;color&#39;] = &#39;black&#39;"
   ]
  },
  {
   "cell_type": "code",
   "execution_count": 10,
   "id": "a703eca2",
   "metadata": {},
   "outputs": [
    {
     "data": {
      "text/plain": [
       "{'cat': 100, 'color': 'blue'}"
      ]
     },
     "execution_count": 10,
     "metadata": {},
     "output_type": "execute_result"
    }
   ],
   "source": [
    "\n",
    "spam ={'prad':\"boy\"}\n",
    "spam.setdefault('color','black')#It will check whether spam has key named \"color\" if not found it will create it.\n",
    "spam\n",
    "\n"
   ]
  },
  {
   "cell_type": "markdown",
   "id": "1fd1aed3",
   "metadata": {},
   "source": [
    "8. How do you &quot;pretty print&quot; dictionary values using which module and function?"
   ]
  },
  {
   "cell_type": "code",
   "execution_count": 13,
   "id": "f11b365a",
   "metadata": {},
   "outputs": [
    {
     "name": "stdout",
     "output_type": "stream",
     "text": [
      "[{'Age': '23', 'Country': 'India', 'Name': 'prad'},\n",
      " {'Age': '22', 'Country': 'India', 'Name': 'hrit'},\n",
      " {'Age': '24', 'Country': 'India', 'Name': 'lax'},\n",
      " {'Age': '25', 'Country': 'USA', 'Name': 'swap'}]\n"
     ]
    }
   ],
   "source": [
    "import pprint\n",
    "dct = [ {'Name': 'prad', 'Age': '23', 'Country': 'India'},\n",
    "  {'Name': 'hrit', 'Age': '22', 'Country': 'India'},\n",
    "  {'Name': 'lax', 'Age': '24', 'Country': 'India'},\n",
    "  {'Name': 'swap', 'Age': '25', 'Country': 'USA'}]\n",
    "pprint.pprint(dct)\n",
    "#we can print \"pretty print\" dict values using pprint module and pprint function."
   ]
  }
 ],
 "metadata": {
  "kernelspec": {
   "display_name": "Python 3 (ipykernel)",
   "language": "python",
   "name": "python3"
  },
  "language_info": {
   "codemirror_mode": {
    "name": "ipython",
    "version": 3
   },
   "file_extension": ".py",
   "mimetype": "text/x-python",
   "name": "python",
   "nbconvert_exporter": "python",
   "pygments_lexer": "ipython3",
   "version": "3.10.9"
  }
 },
 "nbformat": 4,
 "nbformat_minor": 5
}

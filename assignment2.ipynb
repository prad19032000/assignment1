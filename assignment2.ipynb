{
 "cells": [
  {
   "cell_type": "markdown",
   "id": "44024050-25d6-467e-8830-ce5621c03a8b",
   "metadata": {},
   "source": [
    "### 1.What are the two values of the Boolean data type? How do you write them?"
   ]
  },
  {
   "cell_type": "markdown",
   "id": "3c6e569c",
   "metadata": {},
   "source": [
    "The two values of the Boolean data type are True or False.\n",
    "a=5;b=3\n",
    "a>b= True\n",
    "a<b= False."
   ]
  },
  {
   "cell_type": "markdown",
   "id": "778ef288-9543-4e6f-97d3-eef5b8d609c2",
   "metadata": {},
   "source": [
    "### 2. What are the three different types of Boolean operators?"
   ]
  },
  {
   "cell_type": "markdown",
   "id": "4f3bece0",
   "metadata": {},
   "source": [
    "The three different types of boolean operators are 'and','or', 'XOR'."
   ]
  },
  {
   "cell_type": "markdown",
   "id": "fc50209a-08ca-438b-9913-e65540c8d401",
   "metadata": {},
   "source": [
    "### 3. Make a list of each Boolean operator's truth tables (i.e. every possible combination of Boolean values for the operator and what it evaluate )."
   ]
  },
  {
   "cell_type": "markdown",
   "id": "4317a15c",
   "metadata": {},
   "source": [
    "and operator\n",
    "a=1;b=0 Output=0\n",
    "a=0;b=1 Output=0\n",
    "a=0;b=0 Output=0\n",
    "a=1;b=1 Output=1\n",
    "\n",
    "or operator\n",
    "a=1;b=1 Output=1\n",
    "a=1;b=0 Output=1\n",
    "a=0;b=1 Output=1\n",
    "a=0;b=0 Output=0\n",
    "\n",
    "XOR operator\n",
    "a=1;b=1 Output=0\n",
    "a=1;b=0 Output=1\n",
    "a=0;b=1 Output=1\n",
    "a=0;b=0 Output=0\n",
    "\n"
   ]
  },
  {
   "cell_type": "markdown",
   "id": "b475be51-be82-44c7-985a-12ba8649e244",
   "metadata": {},
   "source": [
    "### 4. What are the values of the following expressions?"
   ]
  },
  {
   "cell_type": "code",
   "execution_count": 5,
   "id": "528dee76-b9e2-4ed6-8fb9-e4360d51460c",
   "metadata": {},
   "outputs": [
    {
     "name": "stdout",
     "output_type": "stream",
     "text": [
      "False False True False False True\n"
     ]
    }
   ],
   "source": [
    "a=(5>4) and (3==5)\n",
    "b=not (5>4)\n",
    "c=(5>4) or (3==5)\n",
    "d=not((5>4) or (3==5))\n",
    "e=(True and True) and (True== False)\n",
    "f=(not False) or (not True)\n",
    "print(a,b,c,d,e,f)"
   ]
  },
  {
   "cell_type": "markdown",
   "id": "c53871f4-7098-4105-ab51-5227ac56c5d9",
   "metadata": {},
   "source": [
    "### 5. What are the six comparison operators?"
   ]
  },
  {
   "cell_type": "markdown",
   "id": "aae90847",
   "metadata": {},
   "source": [
    "'==' : equal to\n",
    "'!=' : not equal to\n",
    "'>': greater than\n",
    "'<':less than\n",
    "'>=':greater than or equal to \n",
    "'<=': less than or equal to\n"
   ]
  },
  {
   "cell_type": "markdown",
   "id": "02d833f8-17c6-4a33-b48c-ba8806ad1e27",
   "metadata": {},
   "source": [
    "### 6. How do you tell the difference between the equal to and assignment operators?Describe a condition and when you would use one."
   ]
  },
  {
   "cell_type": "markdown",
   "id": "64f39028",
   "metadata": {},
   "source": [
    "'Equal to' operator compares the two values if they are equal or not, if they are not equal it gives output as False,whereas assignment \n",
    "operators assigns a particular value to a variable.\n",
    "a=5,b=4\n",
    "a==b\n",
    "Output will be False.\n",
    "a=5\n",
    "a+=5\n",
    "print(a)\n",
    "Output will be 10."
   ]
  },
  {
   "cell_type": "markdown",
   "id": "f60476b2-e71d-4200-b8bf-b77ddbaf0b38",
   "metadata": {},
   "source": [
    "### 7. Identify the three blocks in this code?\n"
   ]
  },
  {
   "cell_type": "markdown",
   "id": "d4de2c0c",
   "metadata": {},
   "source": [
    "spam = 0\n",
    "if spam == 10:\n",
    "    print('eggs')#This is the first block.\n",
    "if spam > 5:\n",
    "    print('bacon')#This is the second block.\n",
    "else:\n",
    "    print('ham')\n",
    "    print('spam')\n",
    "    print('spam')#This is the third block.\n"
   ]
  },
  {
   "cell_type": "markdown",
   "id": "414436eb-b3a2-4f2a-b8fb-6d242b5cafda",
   "metadata": {},
   "source": [
    "### 8. Write code that prints Hello if 1 is stored in spam, prints Howdy if 2 is stored in spam, and prints Greetings! if anything else is stored in spam."
   ]
  },
  {
   "cell_type": "code",
   "execution_count": 2,
   "id": "af8fad24-9a06-4ec8-8ad4-e4b79565e82f",
   "metadata": {},
   "outputs": [
    {
     "name": "stdin",
     "output_type": "stream",
     "text": [
      "enter a number 8\n"
     ]
    },
    {
     "name": "stdout",
     "output_type": "stream",
     "text": [
      "Greetings\n"
     ]
    }
   ],
   "source": [
    "spam=int(input(\"enter a number\"))\n",
    "if spam==1:\n",
    "    print(\"hello\")\n",
    "elif spam==2:\n",
    "    print(\"bacon\")\n",
    "else:\n",
    "    print(\"Greetings\")\n",
    "         \n",
    "        "
   ]
  },
  {
   "cell_type": "markdown",
   "id": "2889e57e-5633-430b-898f-e5139e623d8f",
   "metadata": {},
   "source": [
    "### 9.If your programme is stuck in an endless loop, what keys you’ll press?"
   ]
  },
  {
   "cell_type": "markdown",
   "id": "8d68c5d5",
   "metadata": {},
   "source": [
    "Interrupt the kernal or Ctrl+C"
   ]
  },
  {
   "cell_type": "markdown",
   "id": "958c2b75-a36c-4458-acf2-ee63e8a57f84",
   "metadata": {},
   "source": [
    "### 10. How can you tell the difference between break and continue?"
   ]
  },
  {
   "cell_type": "markdown",
   "id": "e6948990",
   "metadata": {},
   "source": [
    " Break:while writing a loop break function is used if we want to stop the loop.\n",
    "Continue: while writing a loop continue function is used if we want to continue the loop."
   ]
  },
  {
   "cell_type": "markdown",
   "id": "b6ab1b5a-0e63-4543-b2f3-7ebba1ac26e0",
   "metadata": {},
   "source": [
    "### 11. In a for loop, what is the difference between range(10), range(0, 10), and range(0, 10, 1)?"
   ]
  },
  {
   "cell_type": "markdown",
   "id": "d605bbb6",
   "metadata": {},
   "source": [
    "In range(10) As the range has only one number it is considered as upper limit, so outcome will be 0 to 9.\n",
    "In range(0,10) it suggests that the loop will start from 0 and 10 will be the upper limit which is excluded.\n",
    "In range(0,10,1) it suggests that the loop will start from 0 till 9 as the 10 is the upper limit with the difference of 1.\n",
    "In this case all the three  will give same outcomes."
   ]
  },
  {
   "cell_type": "markdown",
   "id": "d8b03c32-e7d6-4012-b586-4bb380b32cc0",
   "metadata": {},
   "source": [
    "### 12. Write a short program that prints the numbers 1 to 10 using a for loop. Then write an equivalent program that prints the numbers 1 to 10 using a while loop."
   ]
  },
  {
   "cell_type": "code",
   "execution_count": 2,
   "id": "b401e1c6-ee00-4841-b2c0-43d2a2e6e694",
   "metadata": {},
   "outputs": [
    {
     "name": "stdout",
     "output_type": "stream",
     "text": [
      "1\n",
      "2\n",
      "3\n",
      "4\n",
      "5\n",
      "6\n",
      "7\n",
      "8\n",
      "9\n",
      "10\n"
     ]
    }
   ],
   "source": [
    "for i in range (1,11):\n",
    "    \n",
    "    print(i)\n",
    "    "
   ]
  },
  {
   "cell_type": "code",
   "execution_count": 1,
   "id": "21cb26ba-2ea3-44ca-92a8-3dde7438af46",
   "metadata": {},
   "outputs": [
    {
     "name": "stdout",
     "output_type": "stream",
     "text": [
      "1\n",
      "2\n",
      "3\n",
      "4\n",
      "5\n",
      "6\n",
      "7\n",
      "8\n",
      "9\n",
      "10\n"
     ]
    }
   ],
   "source": [
    "a = 1\n",
    "while a<=10:\n",
    "    print(a)\n",
    "    a+=1\n",
    "    "
   ]
  },
  {
   "cell_type": "markdown",
   "id": "30fbfe68-80d6-4953-b784-0e1f4c36f82e",
   "metadata": {},
   "source": [
    "### 13. If you had a function named bacon() inside a module named spam, how would you call it after importing spam?"
   ]
  },
  {
   "cell_type": "markdown",
   "id": "9757bab2",
   "metadata": {},
   "source": [
    "import spam\n",
    "spam.bacon()"
   ]
  }
 ],
 "metadata": {
  "kernelspec": {
   "display_name": "Python 3 (ipykernel)",
   "language": "python",
   "name": "python3"
  },
  "language_info": {
   "codemirror_mode": {
    "name": "ipython",
    "version": 3
   },
   "file_extension": ".py",
   "mimetype": "text/x-python",
   "name": "python",
   "nbconvert_exporter": "python",
   "pygments_lexer": "ipython3",
   "version": "3.10.9"
  }
 },
 "nbformat": 4,
 "nbformat_minor": 5
}
